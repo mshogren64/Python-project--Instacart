{
 "cells": [
  {
   "cell_type": "markdown",
   "id": "a41b3e13",
   "metadata": {},
   "source": [
    "### Instacart 4.10 part 1 of 2 Coding etiquette<br>\n",
    "\n",
    "Address PII data<br>\n",
    "Compare Customers by region<br>\n",
    "Compare Customer parent types<br>\n",
    "New df = c_o_p410; transform to add 'max order' column and create an exclusion flag for low-activity customers (customers with less than 5 orders) and exclude them from the data.<br>\n",
    "\n",
    "### histogram of income levels<br>\n",
    "Bar of frequency of department ids<br>\n",
    "Bar of popular products by region"
   ]
  },
  {
   "cell_type": "code",
   "execution_count": 2,
   "id": "658b7a55",
   "metadata": {},
   "outputs": [],
   "source": [
    "#import libraries\n",
    "import pandas as pd\n",
    "import numpy as np\n",
    "import os \n",
    "import matplotlib.pyplot as plt\n",
    "import seaborn as sns\n",
    "import scipy"
   ]
  },
  {
   "cell_type": "code",
   "execution_count": 3,
   "id": "58580062",
   "metadata": {},
   "outputs": [],
   "source": [
    "# /* Create path (to project file), import 4.9 pickle file */\n",
    "path = r'/Users/margoshogren/Desktop/1 Margo-CF Folder -desktop/4 Python/4-2023 Instacart Basket Analysis'\n",
    "c_o_p49 = pd.read_pickle(os.path.join(path,'2 Data','prepared data','c_o_p_49_2b.pkl'))"
   ]
  },
  {
   "cell_type": "code",
   "execution_count": 3,
   "id": "fbb45a37",
   "metadata": {},
   "outputs": [
    {
     "data": {
      "text/plain": [
       "Index(['user_id', 'First_Name', 'Last_Name', 'Gender', 'State', 'Age',\n",
       "       'date_joined', 'no_of_dep', 'Marital_status', 'income', 'product_id',\n",
       "       'product_name', 'aisle_id', 'department_id', 'prices', 'order_id',\n",
       "       'order_number', 'orders_day_of_week', 'order_hour_of_day',\n",
       "       'days_since_prior_order', 'add_to_cart_order', 'reordered', '_merge',\n",
       "       'price_range_loc', 'Busiest_days', 'busiest_period_of_day',\n",
       "       'max_order'],\n",
       "      dtype='object')"
      ]
     },
     "execution_count": 3,
     "metadata": {},
     "output_type": "execute_result"
    }
   ],
   "source": [
    "c_o_p49.columns"
   ]
  },
  {
   "cell_type": "markdown",
   "id": "7c28e292",
   "metadata": {},
   "source": [
    "### Question(2) address any PII data in the data before continuing your analysis<br>\n",
    "The columns that could be PII are 'Marital_status' and 'income', we should bring this to the attention of the senior staff or the client."
   ]
  },
  {
   "cell_type": "markdown",
   "id": "51949ec5",
   "metadata": {},
   "source": [
    "### Question(3) comparing customer behavior in different geographic areas."
   ]
  },
  {
   "cell_type": "code",
   "execution_count": 4,
   "id": "ab52e185",
   "metadata": {},
   "outputs": [
    {
     "data": {
      "text/html": [
       "<div>\n",
       "<style scoped>\n",
       "    .dataframe tbody tr th:only-of-type {\n",
       "        vertical-align: middle;\n",
       "    }\n",
       "\n",
       "    .dataframe tbody tr th {\n",
       "        vertical-align: top;\n",
       "    }\n",
       "\n",
       "    .dataframe thead th {\n",
       "        text-align: right;\n",
       "    }\n",
       "</style>\n",
       "<table border=\"1\" class=\"dataframe\">\n",
       "  <thead>\n",
       "    <tr style=\"text-align: right;\">\n",
       "      <th></th>\n",
       "      <th>user_id</th>\n",
       "      <th>First_Name</th>\n",
       "      <th>Last_Name</th>\n",
       "      <th>Gender</th>\n",
       "      <th>State</th>\n",
       "      <th>Age</th>\n",
       "      <th>date_joined</th>\n",
       "      <th>no_of_dep</th>\n",
       "      <th>Marital_status</th>\n",
       "      <th>income</th>\n",
       "      <th>...</th>\n",
       "      <th>orders_day_of_week</th>\n",
       "      <th>order_hour_of_day</th>\n",
       "      <th>days_since_prior_order</th>\n",
       "      <th>add_to_cart_order</th>\n",
       "      <th>reordered</th>\n",
       "      <th>_merge</th>\n",
       "      <th>price_range_loc</th>\n",
       "      <th>Busiest_days</th>\n",
       "      <th>busiest_period_of_day</th>\n",
       "      <th>max_order</th>\n",
       "    </tr>\n",
       "  </thead>\n",
       "  <tbody>\n",
       "    <tr>\n",
       "      <th>0</th>\n",
       "      <td>26711</td>\n",
       "      <td>Deborah</td>\n",
       "      <td>Esquivel</td>\n",
       "      <td>Female</td>\n",
       "      <td>Missouri</td>\n",
       "      <td>48</td>\n",
       "      <td>1/1/2017</td>\n",
       "      <td>3</td>\n",
       "      <td>married</td>\n",
       "      <td>165665</td>\n",
       "      <td>...</td>\n",
       "      <td>1</td>\n",
       "      <td>9</td>\n",
       "      <td>30.0</td>\n",
       "      <td>2</td>\n",
       "      <td>0</td>\n",
       "      <td>both</td>\n",
       "      <td>Mid-range product</td>\n",
       "      <td>Busiest days</td>\n",
       "      <td>Average orders</td>\n",
       "      <td>8</td>\n",
       "    </tr>\n",
       "    <tr>\n",
       "      <th>1</th>\n",
       "      <td>26711</td>\n",
       "      <td>Deborah</td>\n",
       "      <td>Esquivel</td>\n",
       "      <td>Female</td>\n",
       "      <td>Missouri</td>\n",
       "      <td>48</td>\n",
       "      <td>1/1/2017</td>\n",
       "      <td>3</td>\n",
       "      <td>married</td>\n",
       "      <td>165665</td>\n",
       "      <td>...</td>\n",
       "      <td>5</td>\n",
       "      <td>15</td>\n",
       "      <td>11.0</td>\n",
       "      <td>1</td>\n",
       "      <td>1</td>\n",
       "      <td>both</td>\n",
       "      <td>Mid-range product</td>\n",
       "      <td>Regularly busy</td>\n",
       "      <td>Most orders</td>\n",
       "      <td>8</td>\n",
       "    </tr>\n",
       "    <tr>\n",
       "      <th>2</th>\n",
       "      <td>26711</td>\n",
       "      <td>Deborah</td>\n",
       "      <td>Esquivel</td>\n",
       "      <td>Female</td>\n",
       "      <td>Missouri</td>\n",
       "      <td>48</td>\n",
       "      <td>1/1/2017</td>\n",
       "      <td>3</td>\n",
       "      <td>married</td>\n",
       "      <td>165665</td>\n",
       "      <td>...</td>\n",
       "      <td>1</td>\n",
       "      <td>15</td>\n",
       "      <td>10.0</td>\n",
       "      <td>2</td>\n",
       "      <td>1</td>\n",
       "      <td>both</td>\n",
       "      <td>Mid-range product</td>\n",
       "      <td>Busiest days</td>\n",
       "      <td>Most orders</td>\n",
       "      <td>8</td>\n",
       "    </tr>\n",
       "    <tr>\n",
       "      <th>3</th>\n",
       "      <td>26711</td>\n",
       "      <td>Deborah</td>\n",
       "      <td>Esquivel</td>\n",
       "      <td>Female</td>\n",
       "      <td>Missouri</td>\n",
       "      <td>48</td>\n",
       "      <td>1/1/2017</td>\n",
       "      <td>3</td>\n",
       "      <td>married</td>\n",
       "      <td>165665</td>\n",
       "      <td>...</td>\n",
       "      <td>2</td>\n",
       "      <td>9</td>\n",
       "      <td>NaN</td>\n",
       "      <td>1</td>\n",
       "      <td>0</td>\n",
       "      <td>both</td>\n",
       "      <td>Low-range product</td>\n",
       "      <td>Regularly busy</td>\n",
       "      <td>Average orders</td>\n",
       "      <td>8</td>\n",
       "    </tr>\n",
       "    <tr>\n",
       "      <th>4</th>\n",
       "      <td>26711</td>\n",
       "      <td>Deborah</td>\n",
       "      <td>Esquivel</td>\n",
       "      <td>Female</td>\n",
       "      <td>Missouri</td>\n",
       "      <td>48</td>\n",
       "      <td>1/1/2017</td>\n",
       "      <td>3</td>\n",
       "      <td>married</td>\n",
       "      <td>165665</td>\n",
       "      <td>...</td>\n",
       "      <td>3</td>\n",
       "      <td>11</td>\n",
       "      <td>30.0</td>\n",
       "      <td>2</td>\n",
       "      <td>1</td>\n",
       "      <td>both</td>\n",
       "      <td>Low-range product</td>\n",
       "      <td>Least busy</td>\n",
       "      <td>Most orders</td>\n",
       "      <td>8</td>\n",
       "    </tr>\n",
       "  </tbody>\n",
       "</table>\n",
       "<p>5 rows × 27 columns</p>\n",
       "</div>"
      ],
      "text/plain": [
       "   user_id First_Name Last_Name  Gender     State  Age date_joined  no_of_dep  \\\n",
       "0    26711    Deborah  Esquivel  Female  Missouri   48    1/1/2017          3   \n",
       "1    26711    Deborah  Esquivel  Female  Missouri   48    1/1/2017          3   \n",
       "2    26711    Deborah  Esquivel  Female  Missouri   48    1/1/2017          3   \n",
       "3    26711    Deborah  Esquivel  Female  Missouri   48    1/1/2017          3   \n",
       "4    26711    Deborah  Esquivel  Female  Missouri   48    1/1/2017          3   \n",
       "\n",
       "  Marital_status  income  ...  orders_day_of_week order_hour_of_day  \\\n",
       "0        married  165665  ...                   1                 9   \n",
       "1        married  165665  ...                   5                15   \n",
       "2        married  165665  ...                   1                15   \n",
       "3        married  165665  ...                   2                 9   \n",
       "4        married  165665  ...                   3                11   \n",
       "\n",
       "   days_since_prior_order  add_to_cart_order  reordered  _merge  \\\n",
       "0                    30.0                  2          0    both   \n",
       "1                    11.0                  1          1    both   \n",
       "2                    10.0                  2          1    both   \n",
       "3                     NaN                  1          0    both   \n",
       "4                    30.0                  2          1    both   \n",
       "\n",
       "     price_range_loc    Busiest_days  busiest_period_of_day  max_order  \n",
       "0  Mid-range product    Busiest days         Average orders          8  \n",
       "1  Mid-range product  Regularly busy            Most orders          8  \n",
       "2  Mid-range product    Busiest days            Most orders          8  \n",
       "3  Low-range product  Regularly busy         Average orders          8  \n",
       "4  Low-range product      Least busy            Most orders          8  \n",
       "\n",
       "[5 rows x 27 columns]"
      ]
     },
     "execution_count": 4,
     "metadata": {},
     "output_type": "execute_result"
    }
   ],
   "source": [
    "c_o_p49.head()"
   ]
  },
  {
   "cell_type": "markdown",
   "id": "c30ff449",
   "metadata": {},
   "source": [
    "#### create regions: (Northeast, Midwest, South, West) using .loc"
   ]
  },
  {
   "cell_type": "code",
   "execution_count": 5,
   "id": "04dc29d4",
   "metadata": {},
   "outputs": [],
   "source": [
    "\n",
    "c_o_p49.loc[c_o_p49['State'].isin(['Maine','New Hampshire','Vermont','Massachusetts','Rhode Island','Connecticut','New York','Pennsylvania','New Jersey']),'Regions'] = 'Northeast'  \n",
    "c_o_p49.loc[c_o_p49['State'].isin(['Wisconsin','Michigan','Illinois','Indiana','Ohio','North Dakota','South Dakota','Nebraska','Kansas','Minnesota','Iowa','Missouri']),'Regions'] = 'Midwest'   \n",
    "c_o_p49.loc[c_o_p49['State'].isin(['Delaware','Maryland','District of Columbia','Virginia','West Virginia','North Carolina','South Carolina','Georgia','Florida','Kentucky','Tennessee','Mississippi','Alabama','Oklahoma','Texas','Arkansas','Louisiana']) ,'Regions'] = 'South' \n",
    "c_o_p49.loc[c_o_p49['State'].isin(['Idaho','Montana','Wyoming','Nevada','Utah','Colorado','Arizona','New Mexico','Alaska','Washington','Oregon','California','Hawaii']),'Regions'] = 'West'                   "
   ]
  },
  {
   "cell_type": "code",
   "execution_count": 6,
   "id": "908fb3d4",
   "metadata": {
    "scrolled": true
   },
   "outputs": [
    {
     "data": {
      "text/plain": [
       "South        10791885\n",
       "West          8292913\n",
       "Midwest       7597325\n",
       "Northeast     5722736\n",
       "Name: Regions, dtype: int64"
      ]
     },
     "execution_count": 6,
     "metadata": {},
     "output_type": "execute_result"
    }
   ],
   "source": [
    "c_o_p49['Regions'].value_counts(dropna = False)"
   ]
  },
  {
   "cell_type": "markdown",
   "id": "99151638",
   "metadata": {},
   "source": [
    "#### Observation: the South has the most customers"
   ]
  },
  {
   "cell_type": "markdown",
   "id": "dfebcb65",
   "metadata": {},
   "source": [
    "#### Check that the rows match for Regions created and the df"
   ]
  },
  {
   "cell_type": "code",
   "execution_count": 7,
   "id": "88582de9",
   "metadata": {},
   "outputs": [
    {
     "data": {
      "text/plain": [
       "(32404859, 28)"
      ]
     },
     "execution_count": 7,
     "metadata": {},
     "output_type": "execute_result"
    }
   ],
   "source": [
    "c_o_p49.shape"
   ]
  },
  {
   "cell_type": "code",
   "execution_count": 8,
   "id": "987c05a3",
   "metadata": {},
   "outputs": [
    {
     "data": {
      "text/plain": [
       "32404859"
      ]
     },
     "execution_count": 8,
     "metadata": {},
     "output_type": "execute_result"
    }
   ],
   "source": [
    "#check if length = df length\n",
    "len(c_o_p49['Regions'])"
   ]
  },
  {
   "cell_type": "markdown",
   "id": "431d307d",
   "metadata": {},
   "source": [
    "### What is the average orders per region?"
   ]
  },
  {
   "cell_type": "code",
   "execution_count": 9,
   "id": "fa27f2b5",
   "metadata": {
    "scrolled": false
   },
   "outputs": [
    {
     "data": {
      "text/plain": [
       "Regions\n",
       "Midwest      16.925132\n",
       "Northeast    17.215730\n",
       "South        17.150968\n",
       "West         17.279318\n",
       "Name: order_number, dtype: float64"
      ]
     },
     "execution_count": 9,
     "metadata": {},
     "output_type": "execute_result"
    }
   ],
   "source": [
    "c_o_p49.groupby('Regions')['order_number'].mean()"
   ]
  },
  {
   "cell_type": "markdown",
   "id": "5e939ce6",
   "metadata": {},
   "source": [
    "#### The West has the highest average number of orders, however there is not a big difference between regions."
   ]
  },
  {
   "cell_type": "code",
   "execution_count": 10,
   "id": "aba70e21",
   "metadata": {},
   "outputs": [],
   "source": [
    "regions_ord = c_o_p49.groupby('Regions')['order_number'].mean()"
   ]
  },
  {
   "cell_type": "code",
   "execution_count": 11,
   "id": "34823a67",
   "metadata": {
    "scrolled": false
   },
   "outputs": [
    {
     "data": {
      "text/html": [
       "<div>\n",
       "<style scoped>\n",
       "    .dataframe tbody tr th:only-of-type {\n",
       "        vertical-align: middle;\n",
       "    }\n",
       "\n",
       "    .dataframe tbody tr th {\n",
       "        vertical-align: top;\n",
       "    }\n",
       "\n",
       "    .dataframe thead th {\n",
       "        text-align: right;\n",
       "    }\n",
       "</style>\n",
       "<table border=\"1\" class=\"dataframe\">\n",
       "  <thead>\n",
       "    <tr style=\"text-align: right;\">\n",
       "      <th></th>\n",
       "      <th>Regions</th>\n",
       "      <th>order_number</th>\n",
       "    </tr>\n",
       "  </thead>\n",
       "  <tbody>\n",
       "    <tr>\n",
       "      <th>0</th>\n",
       "      <td>Midwest</td>\n",
       "      <td>16.925132</td>\n",
       "    </tr>\n",
       "    <tr>\n",
       "      <th>1</th>\n",
       "      <td>Northeast</td>\n",
       "      <td>17.215730</td>\n",
       "    </tr>\n",
       "    <tr>\n",
       "      <th>2</th>\n",
       "      <td>South</td>\n",
       "      <td>17.150968</td>\n",
       "    </tr>\n",
       "    <tr>\n",
       "      <th>3</th>\n",
       "      <td>West</td>\n",
       "      <td>17.279318</td>\n",
       "    </tr>\n",
       "  </tbody>\n",
       "</table>\n",
       "</div>"
      ],
      "text/plain": [
       "     Regions  order_number\n",
       "0    Midwest     16.925132\n",
       "1  Northeast     17.215730\n",
       "2      South     17.150968\n",
       "3       West     17.279318"
      ]
     },
     "execution_count": 11,
     "metadata": {},
     "output_type": "execute_result"
    }
   ],
   "source": [
    "regions_ord.reset_index()"
   ]
  },
  {
   "cell_type": "code",
   "execution_count": 12,
   "id": "671d477b",
   "metadata": {},
   "outputs": [],
   "source": [
    "df_new = regions_ord.reset_index()"
   ]
  },
  {
   "cell_type": "markdown",
   "id": "b57ec168",
   "metadata": {},
   "source": [
    "## Bar chart for average orders by region"
   ]
  },
  {
   "cell_type": "code",
   "execution_count": 13,
   "id": "bf678400",
   "metadata": {
    "scrolled": false
   },
   "outputs": [
    {
     "data": {
      "image/png": "[encoded data removed]",
      "text/plain": [
       "<Figure size 640x480 with 1 Axes>"
      ]
     },
     "metadata": {},
     "output_type": "display_data"
    }
   ],
   "source": [
    "bar_regions = sns.barplot(x = 'Regions', y = 'order_number',data = df_new)\n",
    "plt.show()"
   ]
  },
  {
   "cell_type": "markdown",
   "id": "ca74ba67",
   "metadata": {},
   "source": [
    "#### Observation: There is very little difference for average orders by region, West is slightly highest"
   ]
  },
  {
   "cell_type": "code",
   "execution_count": 14,
   "id": "e2a3f9bc",
   "metadata": {
    "scrolled": true
   },
   "outputs": [
    {
     "data": {
      "text/plain": [
       "Regions\n",
       "Midwest      7.791784\n",
       "Northeast    7.781639\n",
       "South        7.794065\n",
       "West         7.789549\n",
       "Name: prices, dtype: float64"
      ]
     },
     "execution_count": 14,
     "metadata": {},
     "output_type": "execute_result"
    }
   ],
   "source": [
    "c_o_p49.groupby('Regions')['prices'].mean()"
   ]
  },
  {
   "cell_type": "markdown",
   "id": "4f864e4d",
   "metadata": {},
   "source": [
    "#### The South has ordered slightly higher priced items. There is not a significant difference between regions."
   ]
  },
  {
   "cell_type": "code",
   "execution_count": 92,
   "id": "8c986d1a",
   "metadata": {},
   "outputs": [],
   "source": [
    "c_o_p49['Average_order']= c_o_p49.groupby(['Regions'])['prices'].transform(np.max)"
   ]
  },
  {
   "cell_type": "code",
   "execution_count": 93,
   "id": "483dbd02",
   "metadata": {},
   "outputs": [
    {
     "data": {
      "text/html": [
       "<div>\n",
       "<style scoped>\n",
       "    .dataframe tbody tr th:only-of-type {\n",
       "        vertical-align: middle;\n",
       "    }\n",
       "\n",
       "    .dataframe tbody tr th {\n",
       "        vertical-align: top;\n",
       "    }\n",
       "\n",
       "    .dataframe thead th {\n",
       "        text-align: right;\n",
       "    }\n",
       "</style>\n",
       "<table border=\"1\" class=\"dataframe\">\n",
       "  <thead>\n",
       "    <tr style=\"text-align: right;\">\n",
       "      <th></th>\n",
       "      <th>Regions</th>\n",
       "      <th>prices</th>\n",
       "      <th>Average_order</th>\n",
       "    </tr>\n",
       "  </thead>\n",
       "  <tbody>\n",
       "    <tr>\n",
       "      <th>0</th>\n",
       "      <td>Midwest</td>\n",
       "      <td>9.0</td>\n",
       "      <td>25.0</td>\n",
       "    </tr>\n",
       "    <tr>\n",
       "      <th>1</th>\n",
       "      <td>Midwest</td>\n",
       "      <td>9.0</td>\n",
       "      <td>25.0</td>\n",
       "    </tr>\n",
       "    <tr>\n",
       "      <th>2</th>\n",
       "      <td>Midwest</td>\n",
       "      <td>9.0</td>\n",
       "      <td>25.0</td>\n",
       "    </tr>\n",
       "    <tr>\n",
       "      <th>3</th>\n",
       "      <td>Midwest</td>\n",
       "      <td>4.3</td>\n",
       "      <td>25.0</td>\n",
       "    </tr>\n",
       "    <tr>\n",
       "      <th>4</th>\n",
       "      <td>Midwest</td>\n",
       "      <td>4.3</td>\n",
       "      <td>25.0</td>\n",
       "    </tr>\n",
       "    <tr>\n",
       "      <th>...</th>\n",
       "      <td>...</td>\n",
       "      <td>...</td>\n",
       "      <td>...</td>\n",
       "    </tr>\n",
       "    <tr>\n",
       "      <th>32404854</th>\n",
       "      <td>Northeast</td>\n",
       "      <td>4.7</td>\n",
       "      <td>25.0</td>\n",
       "    </tr>\n",
       "    <tr>\n",
       "      <th>32404855</th>\n",
       "      <td>Northeast</td>\n",
       "      <td>1.8</td>\n",
       "      <td>25.0</td>\n",
       "    </tr>\n",
       "    <tr>\n",
       "      <th>32404856</th>\n",
       "      <td>Northeast</td>\n",
       "      <td>4.0</td>\n",
       "      <td>25.0</td>\n",
       "    </tr>\n",
       "    <tr>\n",
       "      <th>32404857</th>\n",
       "      <td>Northeast</td>\n",
       "      <td>2.0</td>\n",
       "      <td>25.0</td>\n",
       "    </tr>\n",
       "    <tr>\n",
       "      <th>32404858</th>\n",
       "      <td>Northeast</td>\n",
       "      <td>5.8</td>\n",
       "      <td>25.0</td>\n",
       "    </tr>\n",
       "  </tbody>\n",
       "</table>\n",
       "<p>32404859 rows × 3 columns</p>\n",
       "</div>"
      ],
      "text/plain": [
       "            Regions  prices  Average_order\n",
       "0           Midwest     9.0           25.0\n",
       "1           Midwest     9.0           25.0\n",
       "2           Midwest     9.0           25.0\n",
       "3           Midwest     4.3           25.0\n",
       "4           Midwest     4.3           25.0\n",
       "...             ...     ...            ...\n",
       "32404854  Northeast     4.7           25.0\n",
       "32404855  Northeast     1.8           25.0\n",
       "32404856  Northeast     4.0           25.0\n",
       "32404857  Northeast     2.0           25.0\n",
       "32404858  Northeast     5.8           25.0\n",
       "\n",
       "[32404859 rows x 3 columns]"
      ]
     },
     "execution_count": 93,
     "metadata": {},
     "output_type": "execute_result"
    }
   ],
   "source": [
    "# Check columns transformed\n",
    "c_o_p49[['Regions','prices','Average_order']]"
   ]
  },
  {
   "cell_type": "code",
   "execution_count": 16,
   "id": "a2f6d813",
   "metadata": {
    "scrolled": true
   },
   "outputs": [
    {
     "data": {
      "text/plain": [
       "Index(['user_id', 'First_Name', 'Last_Name', 'Gender', 'State', 'Age',\n",
       "       'date_joined', 'no_of_dep', 'Marital_status', 'income', 'product_id',\n",
       "       'product_name', 'aisle_id', 'department_id', 'prices', 'order_id',\n",
       "       'order_number', 'orders_day_of_week', 'order_hour_of_day',\n",
       "       'days_since_prior_order', 'add_to_cart_order', 'reordered', '_merge',\n",
       "       'price_range_loc', 'Busiest_days', 'busiest_period_of_day', 'max_order',\n",
       "       'Regions'],\n",
       "      dtype='object')"
      ]
     },
     "execution_count": 16,
     "metadata": {},
     "output_type": "execute_result"
    }
   ],
   "source": [
    "c_o_p49.columns"
   ]
  },
  {
   "cell_type": "markdown",
   "id": "b0cbf1fa",
   "metadata": {},
   "source": [
    "### Question(4) \n",
    "Create an exclusion flag for low-activity customers (customers with less than 5 orders) and exclude them from the data."
   ]
  },
  {
   "cell_type": "code",
   "execution_count": 6,
   "id": "6ddb6bb7",
   "metadata": {},
   "outputs": [],
   "source": [
    "c_o_p49['max_order']= c_o_p49.groupby(['user_id'])['order_number'].transform(np.max)"
   ]
  },
  {
   "cell_type": "code",
   "execution_count": 7,
   "id": "f13d5b7c",
   "metadata": {},
   "outputs": [],
   "source": [
    "c_o_p49.loc[c_o_p49['max_order'] < 5, '<_5_order'] = 'exclude'"
   ]
  },
  {
   "cell_type": "code",
   "execution_count": 8,
   "id": "f472dc90",
   "metadata": {},
   "outputs": [],
   "source": [
    "c_o_p49.loc[c_o_p49['max_order'] >= 5, '<_5_order'] = 'include'"
   ]
  },
  {
   "cell_type": "code",
   "execution_count": 9,
   "id": "a09a5390",
   "metadata": {
    "scrolled": true
   },
   "outputs": [
    {
     "data": {
      "text/plain": [
       "include    30964564\n",
       "exclude     1440295\n",
       "Name: <_5_order, dtype: int64"
      ]
     },
     "execution_count": 9,
     "metadata": {},
     "output_type": "execute_result"
    }
   ],
   "source": [
    "# Check result of 'yes' orders < 5 to include and 'no' orders < 5 to exclude\n",
    "c_o_p49['<_5_order'].value_counts(dropna = False)"
   ]
  },
  {
   "cell_type": "markdown",
   "id": "53a89dde",
   "metadata": {},
   "source": [
    "#### New df  [c_o_p410] will exclude the orders < 5"
   ]
  },
  {
   "cell_type": "code",
   "execution_count": 10,
   "id": "600e0c23",
   "metadata": {
    "scrolled": true
   },
   "outputs": [],
   "source": [
    "c_o_p410 = c_o_p49[c_o_p49['<_5_order'] == 'include']"
   ]
  },
  {
   "cell_type": "markdown",
   "id": "11335a3c",
   "metadata": {},
   "source": [
    "#### Observation: The new df = c_o_p410 is now the size of the 'include' (orders < 5)"
   ]
  },
  {
   "cell_type": "markdown",
   "id": "2f946181",
   "metadata": {},
   "source": [
    "### Question(5) Create a profiling variable based on:<br>\n",
    "-age<br>\n",
    "-income<br>\n",
    "-“department_id” columns-certain goods<br>\n",
    "-number of dependents<br>\n",
    "You might also use the “orders_day_of_the_week” and “order_hour_of_day” columns if you can think of a way they would impact customer profiles."
   ]
  },
  {
   "cell_type": "markdown",
   "id": "e468cb70",
   "metadata": {},
   "source": [
    "### Profile parent age groups and non parent; label 'parent types' as:<br>\n",
    "'young parent' as less and equal 25 & dependents<br>\n",
    "'mid age parent' as 26-40 & dependents <br>\n",
    "'older parent' as > 40 & dependents<br>\n",
    "'non parent' with no dependents"
   ]
  },
  {
   "cell_type": "code",
   "execution_count": 22,
   "id": "1cac810f",
   "metadata": {},
   "outputs": [
    {
     "name": "stderr",
     "output_type": "stream",
     "text": [
      "/var/folders/dj/4qjrg2bn07928wblcylhwx240000gn/T/ipykernel_14326/2465522761.py:1: SettingWithCopyWarning: \n",
      "A value is trying to be set on a copy of a slice from a DataFrame.\n",
      "Try using .loc[row_indexer,col_indexer] = value instead\n",
      "\n",
      "See the caveats in the documentation: https://pandas.pydata.org/pandas-docs/stable/user_guide/indexing.html#returning-a-view-versus-a-copy\n",
      "  c_o_p410.loc[(c_o_p410['no_of_dep'] > 0) & (c_o_p410['Age'] <= 25), 'parent_type'] = 'young parent'\n"
     ]
    }
   ],
   "source": [
    "c_o_p410.loc[(c_o_p410['no_of_dep'] > 0) & (c_o_p410['Age'] <= 25), 'parent_type'] = 'young parent'"
   ]
  },
  {
   "cell_type": "code",
   "execution_count": 23,
   "id": "1c355dd4",
   "metadata": {},
   "outputs": [],
   "source": [
    "c_o_p410.loc[(c_o_p410['no_of_dep'] > 0) & (c_o_p410['Age'] >= 40), 'parent_type'] = 'older parent'"
   ]
  },
  {
   "cell_type": "code",
   "execution_count": 24,
   "id": "a4bcf730",
   "metadata": {},
   "outputs": [],
   "source": [
    "c_o_p410.loc[(c_o_p410['no_of_dep'] > 0) & ((c_o_p410['Age'] > 25) & (c_o_p410['Age'] < 40)), 'parent_type'] = 'mid age parent'"
   ]
  },
  {
   "cell_type": "code",
   "execution_count": 25,
   "id": "096dd928",
   "metadata": {},
   "outputs": [],
   "source": [
    "c_o_p410.loc[(c_o_p410['no_of_dep'] == 0), 'parent_type'] = 'non parent'"
   ]
  },
  {
   "cell_type": "code",
   "execution_count": 26,
   "id": "1e5c515f",
   "metadata": {
    "scrolled": false
   },
   "outputs": [
    {
     "data": {
      "text/plain": [
       "mid age parent     5093244\n",
       "non parent         7739681\n",
       "older parent      15220348\n",
       "young parent       2911291\n",
       "Name: parent_type, dtype: int64"
      ]
     },
     "execution_count": 26,
     "metadata": {},
     "output_type": "execute_result"
    }
   ],
   "source": [
    "#check result of labeling to young parent, older parent, mid age parent, non parent\n",
    "c_o_p410['parent_type'].value_counts(dropna = False).sort_index()"
   ]
  },
  {
   "cell_type": "markdown",
   "id": "5a67d06e",
   "metadata": {},
   "source": [
    "### Question(6) Create an appropriate visualization to show the distribution of profiles."
   ]
  },
  {
   "cell_type": "code",
   "execution_count": 27,
   "id": "cba7c849",
   "metadata": {
    "scrolled": false
   },
   "outputs": [
    {
     "data": {
      "image/png": "[encoded data removed]",
      "text/plain": [
       "<Figure size 640x480 with 1 Axes>"
      ]
     },
     "metadata": {},
     "output_type": "display_data"
    }
   ],
   "source": [
    "#bar graph of parent types \n",
    "bar = c_o_p410['parent_type'].value_counts().plot.bar()"
   ]
  },
  {
   "cell_type": "markdown",
   "id": "7e340154",
   "metadata": {},
   "source": [
    "#### Observation: There are more customers as older parents (age >40), followed by 'non-parents', 'mid-age' (26-40) and lastly 'young parents' (< 25)"
   ]
  },
  {
   "cell_type": "code",
   "execution_count": 28,
   "id": "8775014c",
   "metadata": {},
   "outputs": [
    {
     "data": {
      "text/plain": [
       "<Axes: ylabel='Frequency'>"
      ]
     },
     "execution_count": 28,
     "metadata": {},
     "output_type": "execute_result"
    },
    {
     "data": {
      "image/png": "[encoded data removed]",
      "text/plain": [
       "<Figure size 640x480 with 1 Axes>"
      ]
     },
     "metadata": {},
     "output_type": "display_data"
    }
   ],
   "source": [
    "#Create a histogram for the income levels\n",
    "c_o_p410['income'].plot.hist(bins = 800)"
   ]
  },
  {
   "cell_type": "markdown",
   "id": "06f3a92c",
   "metadata": {},
   "source": [
    "#### Observation: the histogram shows the most customers income is 50k-150k."
   ]
  },
  {
   "cell_type": "code",
   "execution_count": 22,
   "id": "f4db701b",
   "metadata": {
    "scrolled": false
   },
   "outputs": [
    {
     "data": {
      "text/plain": [
       "([<matplotlib.axis.XTick at 0x7f9147fe0250>,\n",
       "  <matplotlib.axis.XTick at 0x7f9147fe0280>,\n",
       "  <matplotlib.axis.XTick at 0x7f9147bdff40>,\n",
       "  <matplotlib.axis.XTick at 0x7f914801c940>,\n",
       "  <matplotlib.axis.XTick at 0x7f914801d2d0>,\n",
       "  <matplotlib.axis.XTick at 0x7f914801dab0>,\n",
       "  <matplotlib.axis.XTick at 0x7f9147ff1900>,\n",
       "  <matplotlib.axis.XTick at 0x7f9147fe0370>,\n",
       "  <matplotlib.axis.XTick at 0x7f914801ead0>,\n",
       "  <matplotlib.axis.XTick at 0x7f914801f3d0>,\n",
       "  <matplotlib.axis.XTick at 0x7f914801fca0>,\n",
       "  <matplotlib.axis.XTick at 0x7f914801fa90>,\n",
       "  <matplotlib.axis.XTick at 0x7f914801cc40>,\n",
       "  <matplotlib.axis.XTick at 0x7f9148034820>,\n",
       "  <matplotlib.axis.XTick at 0x7f9148035000>,\n",
       "  <matplotlib.axis.XTick at 0x7f91480357e0>,\n",
       "  <matplotlib.axis.XTick at 0x7f9148035fc0>,\n",
       "  <matplotlib.axis.XTick at 0x7f9148035630>,\n",
       "  <matplotlib.axis.XTick at 0x7f9148036170>,\n",
       "  <matplotlib.axis.XTick at 0x7f9148036950>,\n",
       "  <matplotlib.axis.XTick at 0x7f9148037130>],\n",
       " [Text(0, 0, 'produce'),\n",
       "  Text(1, 0, 'dairy eggs'),\n",
       "  Text(2, 0, 'snacks'),\n",
       "  Text(3, 0, 'beverages'),\n",
       "  Text(4, 0, 'frozen'),\n",
       "  Text(5, 0, 'pantry'),\n",
       "  Text(6, 0, 'bakery'),\n",
       "  Text(7, 0, 'canned goods'),\n",
       "  Text(8, 0, 'deli'),\n",
       "  Text(9, 0, 'dry goods pasta'),\n",
       "  Text(10, 0, 'household'),\n",
       "  Text(11, 0, 'meat seafood'),\n",
       "  Text(12, 0, 'breakfast'),\n",
       "  Text(13, 0, 'personal care'),\n",
       "  Text(14, 0, 'babies'),\n",
       "  Text(15, 0, 'international'),\n",
       "  Text(16, 0, 'alcohol'),\n",
       "  Text(17, 0, 'pets'),\n",
       "  Text(18, 0, 'missing'),\n",
       "  Text(19, 0, 'other'),\n",
       "  Text(20, 0, 'bulk')])"
      ]
     },
     "execution_count": 22,
     "metadata": {},
     "output_type": "execute_result"
    },
    {
     "data": {
      "image/png": "[encoded data removed]",
      "text/plain": [
       "<Figure size 640x480 with 1 Axes>"
      ]
     },
     "metadata": {},
     "output_type": "display_data"
    }
   ],
   "source": [
    "#Create a bar graph of 'department_id'\n",
    "bar_inc = c_o_p410['department_id'].value_counts().plot.bar()\n",
    "plt.xlabel('department id')\n",
    "plt.ylabel('Count of department id')\n",
    "plt.title('Frequency of department id')\n",
    "plt.xticks((0,1,2,3,4,5,6,7,8,9,10,11,12,13,14,15,16,17,18,19,20),('produce','dairy eggs','snacks','beverages','frozen','pantry','bakery','canned goods','deli','dry goods pasta','household','meat seafood','breakfast','personal care','babies','international','alcohol','pets','missing','other','bulk'))"
   ]
  },
  {
   "cell_type": "markdown",
   "id": "c81f3284",
   "metadata": {},
   "source": [
    "#### Observation: The most frequent department_id's ordered are 4 (produce), 16 (dairy eggs) and the least are 10 (bulk), 2 (other)"
   ]
  },
  {
   "cell_type": "markdown",
   "id": "53aa5f51",
   "metadata": {},
   "source": [
    "### Question(7) Aggregate the max, mean, and min variables on a customer-profile level for usage frequency and expenditure."
   ]
  },
  {
   "cell_type": "markdown",
   "id": "85bb484e",
   "metadata": {},
   "source": [
    "#### Frequency of parent_type orders"
   ]
  },
  {
   "cell_type": "code",
   "execution_count": 30,
   "id": "67d6f7f6",
   "metadata": {},
   "outputs": [
    {
     "data": {
      "text/html": [
       "<div>\n",
       "<style scoped>\n",
       "    .dataframe tbody tr th:only-of-type {\n",
       "        vertical-align: middle;\n",
       "    }\n",
       "\n",
       "    .dataframe tbody tr th {\n",
       "        vertical-align: top;\n",
       "    }\n",
       "\n",
       "    .dataframe thead tr th {\n",
       "        text-align: left;\n",
       "    }\n",
       "\n",
       "    .dataframe thead tr:last-of-type th {\n",
       "        text-align: right;\n",
       "    }\n",
       "</style>\n",
       "<table border=\"1\" class=\"dataframe\">\n",
       "  <thead>\n",
       "    <tr>\n",
       "      <th></th>\n",
       "      <th colspan=\"3\" halign=\"left\">order_number</th>\n",
       "    </tr>\n",
       "    <tr>\n",
       "      <th></th>\n",
       "      <th>mean</th>\n",
       "      <th>max</th>\n",
       "      <th>min</th>\n",
       "    </tr>\n",
       "    <tr>\n",
       "      <th>parent_type</th>\n",
       "      <th></th>\n",
       "      <th></th>\n",
       "      <th></th>\n",
       "    </tr>\n",
       "  </thead>\n",
       "  <tbody>\n",
       "    <tr>\n",
       "      <th>mid age parent</th>\n",
       "      <td>17.875102</td>\n",
       "      <td>99</td>\n",
       "      <td>1</td>\n",
       "    </tr>\n",
       "    <tr>\n",
       "      <th>non parent</th>\n",
       "      <td>17.957922</td>\n",
       "      <td>99</td>\n",
       "      <td>1</td>\n",
       "    </tr>\n",
       "    <tr>\n",
       "      <th>older parent</th>\n",
       "      <td>17.735680</td>\n",
       "      <td>99</td>\n",
       "      <td>1</td>\n",
       "    </tr>\n",
       "    <tr>\n",
       "      <th>young parent</th>\n",
       "      <td>17.948170</td>\n",
       "      <td>99</td>\n",
       "      <td>1</td>\n",
       "    </tr>\n",
       "  </tbody>\n",
       "</table>\n",
       "</div>"
      ],
      "text/plain": [
       "               order_number        \n",
       "                       mean max min\n",
       "parent_type                        \n",
       "mid age parent    17.875102  99   1\n",
       "non parent        17.957922  99   1\n",
       "older parent      17.735680  99   1\n",
       "young parent      17.948170  99   1"
      ]
     },
     "execution_count": 30,
     "metadata": {},
     "output_type": "execute_result"
    }
   ],
   "source": [
    "c_o_p410.groupby('parent_type').agg({'order_number':['mean','max','min']})"
   ]
  },
  {
   "cell_type": "markdown",
   "id": "244db22f",
   "metadata": {},
   "source": [
    "#### Income mean, max and min by parent_type "
   ]
  },
  {
   "cell_type": "code",
   "execution_count": 31,
   "id": "1e2c583b",
   "metadata": {
    "scrolled": false
   },
   "outputs": [
    {
     "data": {
      "text/html": [
       "<div>\n",
       "<style scoped>\n",
       "    .dataframe tbody tr th:only-of-type {\n",
       "        vertical-align: middle;\n",
       "    }\n",
       "\n",
       "    .dataframe tbody tr th {\n",
       "        vertical-align: top;\n",
       "    }\n",
       "\n",
       "    .dataframe thead tr th {\n",
       "        text-align: left;\n",
       "    }\n",
       "\n",
       "    .dataframe thead tr:last-of-type th {\n",
       "        text-align: right;\n",
       "    }\n",
       "</style>\n",
       "<table border=\"1\" class=\"dataframe\">\n",
       "  <thead>\n",
       "    <tr>\n",
       "      <th></th>\n",
       "      <th colspan=\"3\" halign=\"left\">income</th>\n",
       "    </tr>\n",
       "    <tr>\n",
       "      <th></th>\n",
       "      <th>mean</th>\n",
       "      <th>max</th>\n",
       "      <th>min</th>\n",
       "    </tr>\n",
       "    <tr>\n",
       "      <th>parent_type</th>\n",
       "      <th></th>\n",
       "      <th></th>\n",
       "      <th></th>\n",
       "    </tr>\n",
       "  </thead>\n",
       "  <tbody>\n",
       "    <tr>\n",
       "      <th>mid age parent</th>\n",
       "      <td>70590.945681</td>\n",
       "      <td>397929</td>\n",
       "      <td>25911</td>\n",
       "    </tr>\n",
       "    <tr>\n",
       "      <th>non parent</th>\n",
       "      <td>99896.801937</td>\n",
       "      <td>584097</td>\n",
       "      <td>25903</td>\n",
       "    </tr>\n",
       "    <tr>\n",
       "      <th>older parent</th>\n",
       "      <td>114804.991516</td>\n",
       "      <td>593901</td>\n",
       "      <td>26154</td>\n",
       "    </tr>\n",
       "    <tr>\n",
       "      <th>young parent</th>\n",
       "      <td>70876.285097</td>\n",
       "      <td>396364</td>\n",
       "      <td>25937</td>\n",
       "    </tr>\n",
       "  </tbody>\n",
       "</table>\n",
       "</div>"
      ],
      "text/plain": [
       "                       income               \n",
       "                         mean     max    min\n",
       "parent_type                                 \n",
       "mid age parent   70590.945681  397929  25911\n",
       "non parent       99896.801937  584097  25903\n",
       "older parent    114804.991516  593901  26154\n",
       "young parent     70876.285097  396364  25937"
      ]
     },
     "execution_count": 31,
     "metadata": {},
     "output_type": "execute_result"
    }
   ],
   "source": [
    "c_o_p410.groupby('parent_type').agg({'income':['mean','max','min']})"
   ]
  },
  {
   "cell_type": "code",
   "execution_count": 32,
   "id": "e2c4cfea",
   "metadata": {
    "scrolled": true
   },
   "outputs": [
    {
     "data": {
      "text/plain": [
       "Male      15586740\n",
       "Female    15377824\n",
       "Name: Gender, dtype: int64"
      ]
     },
     "execution_count": 32,
     "metadata": {},
     "output_type": "execute_result"
    }
   ],
   "source": [
    "c_o_p410['Gender'].value_counts(dropna = False)"
   ]
  },
  {
   "cell_type": "markdown",
   "id": "61d9bf18",
   "metadata": {},
   "source": [
    "#### Observation: There are slightly more males customers than female."
   ]
  },
  {
   "cell_type": "markdown",
   "id": "3e330881",
   "metadata": {},
   "source": [
    "### Question(8) Compare your customer profiles with regions and departments. Can you identify a link between them? Customers may demonstrate different behaviors across regions."
   ]
  },
  {
   "cell_type": "code",
   "execution_count": 33,
   "id": "cbaa0029",
   "metadata": {
    "scrolled": true
   },
   "outputs": [
    {
     "data": {
      "text/html": [
       "<div>\n",
       "<style scoped>\n",
       "    .dataframe tbody tr th:only-of-type {\n",
       "        vertical-align: middle;\n",
       "    }\n",
       "\n",
       "    .dataframe tbody tr th {\n",
       "        vertical-align: top;\n",
       "    }\n",
       "\n",
       "    .dataframe thead tr th {\n",
       "        text-align: left;\n",
       "    }\n",
       "\n",
       "    .dataframe thead tr:last-of-type th {\n",
       "        text-align: right;\n",
       "    }\n",
       "</style>\n",
       "<table border=\"1\" class=\"dataframe\">\n",
       "  <thead>\n",
       "    <tr>\n",
       "      <th></th>\n",
       "      <th colspan=\"3\" halign=\"left\">income</th>\n",
       "    </tr>\n",
       "    <tr>\n",
       "      <th></th>\n",
       "      <th>mean</th>\n",
       "      <th>max</th>\n",
       "      <th>min</th>\n",
       "    </tr>\n",
       "    <tr>\n",
       "      <th>Regions</th>\n",
       "      <th></th>\n",
       "      <th></th>\n",
       "      <th></th>\n",
       "    </tr>\n",
       "  </thead>\n",
       "  <tbody>\n",
       "    <tr>\n",
       "      <th>Midwest</th>\n",
       "      <td>100380.647818</td>\n",
       "      <td>579397</td>\n",
       "      <td>25903</td>\n",
       "    </tr>\n",
       "    <tr>\n",
       "      <th>Northeast</th>\n",
       "      <td>99745.286352</td>\n",
       "      <td>584097</td>\n",
       "      <td>26095</td>\n",
       "    </tr>\n",
       "    <tr>\n",
       "      <th>South</th>\n",
       "      <td>99242.561807</td>\n",
       "      <td>591089</td>\n",
       "      <td>25911</td>\n",
       "    </tr>\n",
       "    <tr>\n",
       "      <th>West</th>\n",
       "      <td>99546.021028</td>\n",
       "      <td>593901</td>\n",
       "      <td>25937</td>\n",
       "    </tr>\n",
       "  </tbody>\n",
       "</table>\n",
       "</div>"
      ],
      "text/plain": [
       "                  income               \n",
       "                    mean     max    min\n",
       "Regions                                \n",
       "Midwest    100380.647818  579397  25903\n",
       "Northeast   99745.286352  584097  26095\n",
       "South       99242.561807  591089  25911\n",
       "West        99546.021028  593901  25937"
      ]
     },
     "execution_count": 33,
     "metadata": {},
     "output_type": "execute_result"
    }
   ],
   "source": [
    "c_o_p410.groupby('Regions').agg({'income':['mean','max','min']})"
   ]
  },
  {
   "cell_type": "markdown",
   "id": "b8abda10",
   "metadata": {},
   "source": [
    "#### Observation: Midwest region has the highest income"
   ]
  },
  {
   "cell_type": "code",
   "execution_count": 34,
   "id": "937ad011",
   "metadata": {
    "scrolled": true
   },
   "outputs": [
    {
     "data": {
      "text/html": [
       "<div>\n",
       "<style scoped>\n",
       "    .dataframe tbody tr th:only-of-type {\n",
       "        vertical-align: middle;\n",
       "    }\n",
       "\n",
       "    .dataframe tbody tr th {\n",
       "        vertical-align: top;\n",
       "    }\n",
       "\n",
       "    .dataframe thead tr th {\n",
       "        text-align: left;\n",
       "    }\n",
       "\n",
       "    .dataframe thead tr:last-of-type th {\n",
       "        text-align: right;\n",
       "    }\n",
       "</style>\n",
       "<table border=\"1\" class=\"dataframe\">\n",
       "  <thead>\n",
       "    <tr>\n",
       "      <th></th>\n",
       "      <th colspan=\"3\" halign=\"left\">department_id</th>\n",
       "    </tr>\n",
       "    <tr>\n",
       "      <th></th>\n",
       "      <th>mean</th>\n",
       "      <th>max</th>\n",
       "      <th>min</th>\n",
       "    </tr>\n",
       "    <tr>\n",
       "      <th>Regions</th>\n",
       "      <th></th>\n",
       "      <th></th>\n",
       "      <th></th>\n",
       "    </tr>\n",
       "  </thead>\n",
       "  <tbody>\n",
       "    <tr>\n",
       "      <th>Midwest</th>\n",
       "      <td>9.916122</td>\n",
       "      <td>21</td>\n",
       "      <td>1</td>\n",
       "    </tr>\n",
       "    <tr>\n",
       "      <th>Northeast</th>\n",
       "      <td>9.942898</td>\n",
       "      <td>21</td>\n",
       "      <td>1</td>\n",
       "    </tr>\n",
       "    <tr>\n",
       "      <th>South</th>\n",
       "      <td>9.912321</td>\n",
       "      <td>21</td>\n",
       "      <td>1</td>\n",
       "    </tr>\n",
       "    <tr>\n",
       "      <th>West</th>\n",
       "      <td>9.926993</td>\n",
       "      <td>21</td>\n",
       "      <td>1</td>\n",
       "    </tr>\n",
       "  </tbody>\n",
       "</table>\n",
       "</div>"
      ],
      "text/plain": [
       "          department_id        \n",
       "                   mean max min\n",
       "Regions                        \n",
       "Midwest        9.916122  21   1\n",
       "Northeast      9.942898  21   1\n",
       "South          9.912321  21   1\n",
       "West           9.926993  21   1"
      ]
     },
     "execution_count": 34,
     "metadata": {},
     "output_type": "execute_result"
    }
   ],
   "source": [
    "c_o_p410.groupby('Regions').agg({'department_id':['mean','max','min']})"
   ]
  },
  {
   "cell_type": "code",
   "execution_count": 35,
   "id": "4c901c61",
   "metadata": {
    "scrolled": true
   },
   "outputs": [
    {
     "data": {
      "text/plain": [
       "South        10311139\n",
       "West          7927227\n",
       "Midwest       7261513\n",
       "Northeast     5464685\n",
       "Name: Regions, dtype: int64"
      ]
     },
     "execution_count": 35,
     "metadata": {},
     "output_type": "execute_result"
    }
   ],
   "source": [
    "c_o_p410['Regions'].value_counts(dropna = False)"
   ]
  },
  {
   "cell_type": "code",
   "execution_count": null,
   "id": "a266fd5d",
   "metadata": {},
   "outputs": [],
   "source": [
    "#### Observation: The South has the most customers"
   ]
  },
  {
   "cell_type": "markdown",
   "id": "522380ab",
   "metadata": {},
   "source": [
    "### What are the most frequent products ordered?"
   ]
  },
  {
   "cell_type": "code",
   "execution_count": 36,
   "id": "a498678e",
   "metadata": {
    "scrolled": true
   },
   "outputs": [
    {
     "data": {
      "text/plain": [
       "Banana                    453164\n",
       "Bag of Organic Bananas    366403\n",
       "Organic Strawberries      255988\n",
       "Organic Baby Spinach      231772\n",
       "Organic Hass Avocado      206799\n",
       "Name: product_name, dtype: int64"
      ]
     },
     "execution_count": 36,
     "metadata": {},
     "output_type": "execute_result"
    }
   ],
   "source": [
    "c_o_p410['product_name'].value_counts(dropna = False).head()"
   ]
  },
  {
   "cell_type": "code",
   "execution_count": 37,
   "id": "17b04bbc",
   "metadata": {},
   "outputs": [],
   "source": [
    "pop_prod = c_o_p410['product_name'].value_counts(dropna = False).head()"
   ]
  },
  {
   "cell_type": "code",
   "execution_count": 38,
   "id": "64d4bc01",
   "metadata": {
    "scrolled": true
   },
   "outputs": [],
   "source": [
    "pop_prod2 = pop_prod.reset_index()"
   ]
  },
  {
   "cell_type": "code",
   "execution_count": 39,
   "id": "1af30b59",
   "metadata": {
    "scrolled": true
   },
   "outputs": [
    {
     "data": {
      "text/html": [
       "<div>\n",
       "<style scoped>\n",
       "    .dataframe tbody tr th:only-of-type {\n",
       "        vertical-align: middle;\n",
       "    }\n",
       "\n",
       "    .dataframe tbody tr th {\n",
       "        vertical-align: top;\n",
       "    }\n",
       "\n",
       "    .dataframe thead th {\n",
       "        text-align: right;\n",
       "    }\n",
       "</style>\n",
       "<table border=\"1\" class=\"dataframe\">\n",
       "  <thead>\n",
       "    <tr style=\"text-align: right;\">\n",
       "      <th></th>\n",
       "      <th>index</th>\n",
       "      <th>product_name</th>\n",
       "    </tr>\n",
       "  </thead>\n",
       "  <tbody>\n",
       "    <tr>\n",
       "      <th>0</th>\n",
       "      <td>Banana</td>\n",
       "      <td>453164</td>\n",
       "    </tr>\n",
       "    <tr>\n",
       "      <th>1</th>\n",
       "      <td>Bag of Organic Bananas</td>\n",
       "      <td>366403</td>\n",
       "    </tr>\n",
       "    <tr>\n",
       "      <th>2</th>\n",
       "      <td>Organic Strawberries</td>\n",
       "      <td>255988</td>\n",
       "    </tr>\n",
       "    <tr>\n",
       "      <th>3</th>\n",
       "      <td>Organic Baby Spinach</td>\n",
       "      <td>231772</td>\n",
       "    </tr>\n",
       "    <tr>\n",
       "      <th>4</th>\n",
       "      <td>Organic Hass Avocado</td>\n",
       "      <td>206799</td>\n",
       "    </tr>\n",
       "  </tbody>\n",
       "</table>\n",
       "</div>"
      ],
      "text/plain": [
       "                    index  product_name\n",
       "0                  Banana        453164\n",
       "1  Bag of Organic Bananas        366403\n",
       "2    Organic Strawberries        255988\n",
       "3    Organic Baby Spinach        231772\n",
       "4    Organic Hass Avocado        206799"
      ]
     },
     "execution_count": 39,
     "metadata": {},
     "output_type": "execute_result"
    }
   ],
   "source": [
    "pop_prod2.head()"
   ]
  },
  {
   "cell_type": "code",
   "execution_count": 46,
   "id": "d3d9778a",
   "metadata": {
    "scrolled": true
   },
   "outputs": [],
   "source": [
    "#re-name the index\n",
    "pop_prod3 = pop_prod2.rename(columns = {'index':'Product_name','product_name':'Count'})"
   ]
  },
  {
   "cell_type": "code",
   "execution_count": 47,
   "id": "4c63322f",
   "metadata": {
    "scrolled": true
   },
   "outputs": [
    {
     "data": {
      "text/plain": [
       "Index(['Product_name', 'Count'], dtype='object')"
      ]
     },
     "execution_count": 47,
     "metadata": {},
     "output_type": "execute_result"
    }
   ],
   "source": [
    "pop_prod3.columns"
   ]
  },
  {
   "cell_type": "code",
   "execution_count": 54,
   "id": "37bea587",
   "metadata": {
    "scrolled": true
   },
   "outputs": [
    {
     "data": {
      "text/plain": [
       "Product_name    object\n",
       "Count            int64\n",
       "dtype: object"
      ]
     },
     "execution_count": 54,
     "metadata": {},
     "output_type": "execute_result"
    }
   ],
   "source": [
    "pop_prod3.dtypes"
   ]
  },
  {
   "cell_type": "markdown",
   "id": "c0dd5dc0",
   "metadata": {},
   "source": [
    "### Bar plot of most popular products ordered"
   ]
  },
  {
   "cell_type": "code",
   "execution_count": 102,
   "id": "3df8bfa3",
   "metadata": {},
   "outputs": [
    {
     "data": {
      "text/plain": [
       "(array([0, 1, 2, 3, 4]),\n",
       " [Text(0, 0, 'Banana'),\n",
       "  Text(1, 0, 'Bag of Organic Bananas'),\n",
       "  Text(2, 0, 'Organic Strawberries'),\n",
       "  Text(3, 0, 'Organic Baby Spinach'),\n",
       "  Text(4, 0, 'Organic Hass Avocado')])"
      ]
     },
     "execution_count": 102,
     "metadata": {},
     "output_type": "execute_result"
    },
    {
     "data": {
      "image/png": "[encoded data removed]",
      "text/plain": [
       "<Figure size 640x480 with 1 Axes>"
      ]
     },
     "metadata": {},
     "output_type": "display_data"
    }
   ],
   "source": [
    "popprod_bar = sns.barplot(data=pop_prod3, x=\"Product_name\", y=\"Count\")\n",
    "plt.xticks(rotation = 90)"
   ]
  },
  {
   "cell_type": "markdown",
   "id": "aeccc781",
   "metadata": {},
   "source": [
    "#### Observation: Bananas are the most popular product ordered"
   ]
  },
  {
   "cell_type": "code",
   "execution_count": 132,
   "id": "75a343a0",
   "metadata": {},
   "outputs": [],
   "source": [
    "#groupby regions, product name and use size to count for a plot\n",
    "reg_prod = c_o_p410.groupby(['Regions', 'product_name']).size().sort_values(ascending = False).reset_index(name = 'counts').head(20)"
   ]
  },
  {
   "cell_type": "markdown",
   "id": "f1a35398",
   "metadata": {},
   "source": [
    "### What are the popular products purchased per region?"
   ]
  },
  {
   "cell_type": "code",
   "execution_count": 134,
   "id": "4842f80d",
   "metadata": {
    "scrolled": true
   },
   "outputs": [
    {
     "data": {
      "text/plain": [
       "<matplotlib.legend.Legend at 0x7facd73e3070>"
      ]
     },
     "execution_count": 134,
     "metadata": {},
     "output_type": "execute_result"
    },
    {
     "data": {
      "image/png": "[encoded data removed]",
      "text/plain": [
       "<Figure size 640x480 with 1 Axes>"
      ]
     },
     "metadata": {},
     "output_type": "display_data"
    }
   ],
   "source": [
    "coolbar = sns.barplot(y ='counts', x = 'product_name',hue = 'Regions', data = reg_prod)\n",
    "plt.xticks(rotation = 90) \n",
    "plt.title('popular products')\n",
    "plt.legend(loc=1) "
   ]
  },
  {
   "cell_type": "markdown",
   "id": "59ffba53",
   "metadata": {},
   "source": [
    "#### Observation: All regions are ordering bananas the most, and the South is ordering the most products"
   ]
  },
  {
   "cell_type": "code",
   "execution_count": null,
   "id": "16c6ac9c",
   "metadata": {},
   "outputs": [],
   "source": [
    "#Export visualization of popular dept ids\n",
    "bar_inc.figure.savefig(os.path.join(path,'04 Analysis','Visualizations','bar_dept_id.png'))"
   ]
  },
  {
   "cell_type": "code",
   "execution_count": null,
   "id": "dae04c0c",
   "metadata": {},
   "outputs": [],
   "source": [
    "#Export visualization of regions\n",
    "bar_regions.figure.savefig(os.path.join(path,'04 Analysis','Visualizations','scat_age_inc.png'))"
   ]
  },
  {
   "cell_type": "code",
   "execution_count": 103,
   "id": "1e9f7a9e",
   "metadata": {},
   "outputs": [],
   "source": [
    "#Export visualization of popular product names\n",
    "popprod_bar.figure.savefig(os.path.join(path,'04 Analysis','Visualizations','scat_age_inc.png'))"
   ]
  },
  {
   "cell_type": "code",
   "execution_count": 135,
   "id": "3e109f0b",
   "metadata": {},
   "outputs": [],
   "source": [
    "#Export visualization of popular product names per region\n",
    "coolbar.figure.savefig(os.path.join(path,'04 Analysis','Visualizations','scat_age_inc.png'))"
   ]
  },
  {
   "cell_type": "code",
   "execution_count": 136,
   "id": "3cc93d0f",
   "metadata": {},
   "outputs": [],
   "source": [
    "#Export c_o_p_410 to pickle\n",
    "c_o_p410.to_pickle(os.path.join(path,'2 Data','prepared data','c_o_p410.pkl'))"
   ]
  },
  {
   "cell_type": "markdown",
   "id": "f35c2ebf",
   "metadata": {},
   "source": [
    "#### -End of 4.10 Part 1 Python coding etiquette"
   ]
  }
 ],
 "metadata": {
  "kernelspec": {
   "display_name": "Python 3 (ipykernel)",
   "language": "python",
   "name": "python3"
  },
  "language_info": {
   "codemirror_mode": {
    "name": "ipython",
    "version": 3
   },
   "file_extension": ".py",
   "mimetype": "text/x-python",
   "name": "python",
   "nbconvert_exporter": "python",
   "pygments_lexer": "ipython3",
   "version": "3.10.9"
  }
 },
 "nbformat": 4,
 "nbformat_minor": 5
}
