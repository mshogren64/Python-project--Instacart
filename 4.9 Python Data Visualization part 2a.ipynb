{
 "cells": [
  {
   "cell_type": "markdown",
   "id": "69ff1201",
   "metadata": {},
   "source": [
    "### 4.9 Python part 2a Data Visualization part 2  Questions(1) -(4)<br>\n",
    "cust_ords_prods (pkl file 'customer49.pkl')<br>\n",
    "ords_prods_merge <br>\n",
    "\n",
    "Question(2)\n",
    "1. Bar_DOW (day_of_week) from Cust_ords_prods<br>\n",
    "1a. line day of week\n",
    "2. hist_prices from Cust_ords_prods\n",
    "3. scatter_prices from Cust_ords_prods\n",
    "4. line_prices from Cust_ords_prods -sample df \n",
    "Question(3)\n",
    "5. hist_ohod (order_hour_of_day) from Cust_ords_prods\n",
    "Question(4)\n",
    "6. bar_loy (loyalty) from ords_prods_merge\n"
   ]
  },
  {
   "cell_type": "code",
   "execution_count": 2,
   "id": "75797e28",
   "metadata": {},
   "outputs": [],
   "source": [
    "#import libraries\n",
    "import pandas as pd\n",
    "import numpy as np\n",
    "import os \n",
    "import matplotlib.pyplot as plt\n",
    "import seaborn as sns\n",
    "import scipy"
   ]
  },
  {
   "cell_type": "markdown",
   "id": "fc3fc5b3",
   "metadata": {},
   "source": [
    "### Question(1) import cust pkl file "
   ]
  },
  {
   "cell_type": "code",
   "execution_count": 3,
   "id": "d5019955",
   "metadata": {},
   "outputs": [],
   "source": [
    "path = r'/Users/margoshogren/Desktop/1 Margo-CF Folder -desktop/4 Python/4-2023 Instacart Basket Analysis'\n",
    "cust_ords_prods = pd.read_pickle(os.path.join(path,'2 Data','prepared data','customer49.pkl'))"
   ]
  },
  {
   "cell_type": "markdown",
   "id": "f9645da0",
   "metadata": {},
   "source": [
    "### Question(2) create a bar chart, a histogram, a scatterplot, and a line chart, using a sample subset for the line chart.<br>\n",
    "1. Bar_DOW (day_of_week) from Cust_ords_prods\n",
    "2. hist_prices from Cust_ords_prods\n",
    "3. scatter_prices from Cust_ords_prods\n",
    "4. line_prices from Cust_ords_prods -sample df "
   ]
  },
  {
   "cell_type": "code",
   "execution_count": 18,
   "id": "072a6b8c",
   "metadata": {
    "scrolled": true
   },
   "outputs": [
    {
     "data": {
      "text/html": [
       "<div>\n",
       "<style scoped>\n",
       "    .dataframe tbody tr th:only-of-type {\n",
       "        vertical-align: middle;\n",
       "    }\n",
       "\n",
       "    .dataframe tbody tr th {\n",
       "        vertical-align: top;\n",
       "    }\n",
       "\n",
       "    .dataframe thead th {\n",
       "        text-align: right;\n",
       "    }\n",
       "</style>\n",
       "<table border=\"1\" class=\"dataframe\">\n",
       "  <thead>\n",
       "    <tr style=\"text-align: right;\">\n",
       "      <th></th>\n",
       "      <th>user_id</th>\n",
       "      <th>First_Name</th>\n",
       "      <th>Last_Name</th>\n",
       "      <th>Gender</th>\n",
       "      <th>State</th>\n",
       "      <th>Age</th>\n",
       "      <th>date_joined</th>\n",
       "      <th>no_of_dep</th>\n",
       "      <th>Marital_status</th>\n",
       "      <th>income</th>\n",
       "      <th>...</th>\n",
       "      <th>orders_day_of_week</th>\n",
       "      <th>order_hour_of_day</th>\n",
       "      <th>days_since_prior_order</th>\n",
       "      <th>add_to_cart_order</th>\n",
       "      <th>reordered</th>\n",
       "      <th>_merge</th>\n",
       "      <th>price_range_loc</th>\n",
       "      <th>Busiest_days</th>\n",
       "      <th>busiest_period_of_day</th>\n",
       "      <th>max_order</th>\n",
       "    </tr>\n",
       "  </thead>\n",
       "  <tbody>\n",
       "    <tr>\n",
       "      <th>0</th>\n",
       "      <td>26711</td>\n",
       "      <td>Deborah</td>\n",
       "      <td>Esquivel</td>\n",
       "      <td>Female</td>\n",
       "      <td>Missouri</td>\n",
       "      <td>48</td>\n",
       "      <td>1/1/2017</td>\n",
       "      <td>3</td>\n",
       "      <td>married</td>\n",
       "      <td>165665</td>\n",
       "      <td>...</td>\n",
       "      <td>1</td>\n",
       "      <td>9</td>\n",
       "      <td>30.0</td>\n",
       "      <td>2</td>\n",
       "      <td>0</td>\n",
       "      <td>both</td>\n",
       "      <td>Mid-range product</td>\n",
       "      <td>Busiest days</td>\n",
       "      <td>Average orders</td>\n",
       "      <td>8</td>\n",
       "    </tr>\n",
       "    <tr>\n",
       "      <th>1</th>\n",
       "      <td>26711</td>\n",
       "      <td>Deborah</td>\n",
       "      <td>Esquivel</td>\n",
       "      <td>Female</td>\n",
       "      <td>Missouri</td>\n",
       "      <td>48</td>\n",
       "      <td>1/1/2017</td>\n",
       "      <td>3</td>\n",
       "      <td>married</td>\n",
       "      <td>165665</td>\n",
       "      <td>...</td>\n",
       "      <td>5</td>\n",
       "      <td>15</td>\n",
       "      <td>11.0</td>\n",
       "      <td>1</td>\n",
       "      <td>1</td>\n",
       "      <td>both</td>\n",
       "      <td>Mid-range product</td>\n",
       "      <td>Regularly busy</td>\n",
       "      <td>Most orders</td>\n",
       "      <td>8</td>\n",
       "    </tr>\n",
       "    <tr>\n",
       "      <th>2</th>\n",
       "      <td>26711</td>\n",
       "      <td>Deborah</td>\n",
       "      <td>Esquivel</td>\n",
       "      <td>Female</td>\n",
       "      <td>Missouri</td>\n",
       "      <td>48</td>\n",
       "      <td>1/1/2017</td>\n",
       "      <td>3</td>\n",
       "      <td>married</td>\n",
       "      <td>165665</td>\n",
       "      <td>...</td>\n",
       "      <td>1</td>\n",
       "      <td>15</td>\n",
       "      <td>10.0</td>\n",
       "      <td>2</td>\n",
       "      <td>1</td>\n",
       "      <td>both</td>\n",
       "      <td>Mid-range product</td>\n",
       "      <td>Busiest days</td>\n",
       "      <td>Most orders</td>\n",
       "      <td>8</td>\n",
       "    </tr>\n",
       "    <tr>\n",
       "      <th>3</th>\n",
       "      <td>26711</td>\n",
       "      <td>Deborah</td>\n",
       "      <td>Esquivel</td>\n",
       "      <td>Female</td>\n",
       "      <td>Missouri</td>\n",
       "      <td>48</td>\n",
       "      <td>1/1/2017</td>\n",
       "      <td>3</td>\n",
       "      <td>married</td>\n",
       "      <td>165665</td>\n",
       "      <td>...</td>\n",
       "      <td>2</td>\n",
       "      <td>9</td>\n",
       "      <td>NaN</td>\n",
       "      <td>1</td>\n",
       "      <td>0</td>\n",
       "      <td>both</td>\n",
       "      <td>Low-range product</td>\n",
       "      <td>Regularly busy</td>\n",
       "      <td>Average orders</td>\n",
       "      <td>8</td>\n",
       "    </tr>\n",
       "    <tr>\n",
       "      <th>4</th>\n",
       "      <td>26711</td>\n",
       "      <td>Deborah</td>\n",
       "      <td>Esquivel</td>\n",
       "      <td>Female</td>\n",
       "      <td>Missouri</td>\n",
       "      <td>48</td>\n",
       "      <td>1/1/2017</td>\n",
       "      <td>3</td>\n",
       "      <td>married</td>\n",
       "      <td>165665</td>\n",
       "      <td>...</td>\n",
       "      <td>3</td>\n",
       "      <td>11</td>\n",
       "      <td>30.0</td>\n",
       "      <td>2</td>\n",
       "      <td>1</td>\n",
       "      <td>both</td>\n",
       "      <td>Low-range product</td>\n",
       "      <td>Least busy</td>\n",
       "      <td>Most orders</td>\n",
       "      <td>8</td>\n",
       "    </tr>\n",
       "  </tbody>\n",
       "</table>\n",
       "<p>5 rows × 27 columns</p>\n",
       "</div>"
      ],
      "text/plain": [
       "   user_id First_Name Last_Name  Gender     State  Age date_joined  no_of_dep  \\\n",
       "0    26711    Deborah  Esquivel  Female  Missouri   48    1/1/2017          3   \n",
       "1    26711    Deborah  Esquivel  Female  Missouri   48    1/1/2017          3   \n",
       "2    26711    Deborah  Esquivel  Female  Missouri   48    1/1/2017          3   \n",
       "3    26711    Deborah  Esquivel  Female  Missouri   48    1/1/2017          3   \n",
       "4    26711    Deborah  Esquivel  Female  Missouri   48    1/1/2017          3   \n",
       "\n",
       "  Marital_status  income  ...  orders_day_of_week order_hour_of_day  \\\n",
       "0        married  165665  ...                   1                 9   \n",
       "1        married  165665  ...                   5                15   \n",
       "2        married  165665  ...                   1                15   \n",
       "3        married  165665  ...                   2                 9   \n",
       "4        married  165665  ...                   3                11   \n",
       "\n",
       "   days_since_prior_order  add_to_cart_order  reordered  _merge  \\\n",
       "0                    30.0                  2          0    both   \n",
       "1                    11.0                  1          1    both   \n",
       "2                    10.0                  2          1    both   \n",
       "3                     NaN                  1          0    both   \n",
       "4                    30.0                  2          1    both   \n",
       "\n",
       "     price_range_loc    Busiest_days  busiest_period_of_day  max_order  \n",
       "0  Mid-range product    Busiest days         Average orders          8  \n",
       "1  Mid-range product  Regularly busy            Most orders          8  \n",
       "2  Mid-range product    Busiest days            Most orders          8  \n",
       "3  Low-range product  Regularly busy         Average orders          8  \n",
       "4  Low-range product      Least busy            Most orders          8  \n",
       "\n",
       "[5 rows x 27 columns]"
      ]
     },
     "execution_count": 18,
     "metadata": {},
     "output_type": "execute_result"
    }
   ],
   "source": [
    "cust_ords_prods.head()"
   ]
  },
  {
   "cell_type": "code",
   "execution_count": 6,
   "id": "d95a2932",
   "metadata": {},
   "outputs": [
    {
     "data": {
      "text/plain": [
       "0    6204182\n",
       "1    5660230\n",
       "2    4213830\n",
       "3    3840534\n",
       "4    3783802\n",
       "5    4205791\n",
       "6    4496490\n",
       "Name: orders_day_of_week, dtype: int64"
      ]
     },
     "execution_count": 6,
     "metadata": {},
     "output_type": "execute_result"
    }
   ],
   "source": [
    "cust_ords_prods['orders_day_of_week'].value_counts().sort_index()"
   ]
  },
  {
   "cell_type": "markdown",
   "id": "60e2a72a",
   "metadata": {},
   "source": [
    "#### 1. Bar chart for orders_day_of week. Bar charts are good for categorical variables"
   ]
  },
  {
   "cell_type": "code",
   "execution_count": 7,
   "id": "6bd1332b",
   "metadata": {
    "scrolled": false
   },
   "outputs": [
    {
     "data": {
      "text/plain": [
       "([<matplotlib.axis.XTick at 0x7f8d20fdc910>,\n",
       "  <matplotlib.axis.XTick at 0x7f8d20fdc8e0>,\n",
       "  <matplotlib.axis.XTick at 0x7f8d20fddc30>,\n",
       "  <matplotlib.axis.XTick at 0x7f8ce7251b70>,\n",
       "  <matplotlib.axis.XTick at 0x7f8ce7252620>,\n",
       "  <matplotlib.axis.XTick at 0x7f8ce72530d0>,\n",
       "  <matplotlib.axis.XTick at 0x7f8ce7252200>],\n",
       " [Text(0, 0, 'Sun'),\n",
       "  Text(1, 0, 'Mon'),\n",
       "  Text(2, 0, 'Tue'),\n",
       "  Text(3, 0, 'Wed'),\n",
       "  Text(4, 0, 'Thur'),\n",
       "  Text(5, 0, 'Fri'),\n",
       "  Text(6, 0, 'Sat')])"
      ]
     },
     "execution_count": 7,
     "metadata": {},
     "output_type": "execute_result"
    },
    {
     "data": {
      "image/png": "[encoded data removed]",
      "text/plain": [
       "<Figure size 640x480 with 1 Axes>"
      ]
     },
     "metadata": {},
     "output_type": "display_data"
    }
   ],
   "source": [
    "bar_order_DOW = cust_ords_prods['orders_day_of_week'].value_counts().sort_index().plot.bar()\n",
    "plt.xlabel('Order day of week')\n",
    "plt.ylabel('Number of orders')\n",
    "plt.title('Orders per day of week')\n",
    "plt.xticks((0, 1, 2, 3, 4, 5, 6), ('Sun', 'Mon', 'Tue', 'Wed', 'Thur', 'Fri', 'Sat'))"
   ]
  },
  {
   "cell_type": "markdown",
   "id": "0d64d3db",
   "metadata": {},
   "source": [
    "#### Observation: Bar chart shows Saturday(0) busiest day, followed by Sunday; least busy days are Wednesday & Thursday\n"
   ]
  },
  {
   "cell_type": "markdown",
   "id": "f0d17d5b",
   "metadata": {},
   "source": [
    "### Line chart for orders by day of week"
   ]
  },
  {
   "cell_type": "code",
   "execution_count": 4,
   "id": "329ef6a3",
   "metadata": {
    "scrolled": false
   },
   "outputs": [
    {
     "data": {
      "text/plain": [
       "Text(0.5, 1.0, 'Orders per day of week')"
      ]
     },
     "execution_count": 4,
     "metadata": {},
     "output_type": "execute_result"
    },
    {
     "data": {
      "image/png": "[encoded data removed]",
      "text/plain": [
       "<Figure size 640x480 with 1 Axes>"
      ]
     },
     "metadata": {},
     "output_type": "display_data"
    }
   ],
   "source": [
    "#reset index for result\n",
    "no_odow = cust_ords_prods['orders_day_of_week'].value_counts().sort_index()\n",
    "\n",
    "# set-up for the plot\n",
    "lines = no_odow.plot.line(x = 'orders_day_of_week', y = no_odow)\n",
    "plt.xticks((0, 1, 2, 3, 4, 5, 6), ('Sun', 'Mon', 'Tue', 'Wed', 'Thur', 'Fri', 'Sat'))\n",
    "\n",
    "# title for line graph\n",
    "plt.title('Orders per day of week')"
   ]
  },
  {
   "cell_type": "markdown",
   "id": "9c1e2ae4",
   "metadata": {},
   "source": [
    "#### Observation: Line chart shows Saturday(0) busiest day, followed by Sunday; least busy days are Tuesday & Wednesday"
   ]
  },
  {
   "cell_type": "code",
   "execution_count": 22,
   "id": "e761037c",
   "metadata": {},
   "outputs": [
    {
     "data": {
      "text/plain": [
       "0    6204182\n",
       "1    5660230\n",
       "2    4213830\n",
       "3    3840534\n",
       "4    3783802\n",
       "Name: orders_day_of_week, dtype: int64"
      ]
     },
     "execution_count": 22,
     "metadata": {},
     "output_type": "execute_result"
    }
   ],
   "source": [
    "no_odow.head()"
   ]
  },
  {
   "cell_type": "markdown",
   "id": "1e5a1f49",
   "metadata": {},
   "source": [
    "#### 2. Create a histogram of 'prices', histograms show density for continous variables"
   ]
  },
  {
   "cell_type": "code",
   "execution_count": 34,
   "id": "1dd11641",
   "metadata": {
    "scrolled": true
   },
   "outputs": [
    {
     "data": {
      "image/png": "[encoded data removed]",
      "text/plain": [
       "<Figure size 640x480 with 1 Axes>"
      ]
     },
     "metadata": {},
     "output_type": "display_data"
    }
   ],
   "source": [
    "hist_prices = cust_ords_prods['prices'].plot.hist(bins = 70)"
   ]
  },
  {
   "cell_type": "markdown",
   "id": "371475bd",
   "metadata": {},
   "source": [
    "#### Observation: The histogram shows the frequency of prices with the most products priced between (\\\\$1-\\\\$15) , and just a small amount priced  \\\\$15 to \\\\$25."
   ]
  },
  {
   "cell_type": "markdown",
   "id": "8be7d27b",
   "metadata": {},
   "source": [
    "#### 3. Scatterplot of prices is used for Exploratory Analysis and shows us outliers"
   ]
  },
  {
   "cell_type": "code",
   "execution_count": 20,
   "id": "3e648414",
   "metadata": {
    "scrolled": true
   },
   "outputs": [
    {
     "data": {
      "image/png": "[encoded data removed]",
      "text/plain": [
       "<Figure size 640x480 with 1 Axes>"
      ]
     },
     "metadata": {},
     "output_type": "display_data"
    }
   ],
   "source": [
    "scatter_prices = sns.scatterplot(x='prices',y='prices', data = cust_ords_prods)"
   ]
  },
  {
   "cell_type": "markdown",
   "id": "d1019535",
   "metadata": {},
   "source": [
    "#### Observation: There are no outiers for the prices showing on the scattergram. Outliers were replaced earlier."
   ]
  },
  {
   "cell_type": "markdown",
   "id": "7d452041",
   "metadata": {},
   "source": [
    "#### 4. Line Chart using a sample subset of data 'orders_of_day' vs. 'prices'<br>\n",
    "1. Set the seed for random number generator\n",
    "2. Create rows of random numbers (length of df) from 0 to 1\n",
    "3. Code a test comparing each of those numbers to a value of .7\n",
    "4. Store results of the test in a new list, dev as True or False"
   ]
  },
  {
   "cell_type": "code",
   "execution_count": 7,
   "id": "3fe9feb0",
   "metadata": {},
   "outputs": [],
   "source": [
    "# Set the seed for random number generator\n",
    "\n",
    "np.random.seed(4)"
   ]
  },
  {
   "cell_type": "code",
   "execution_count": 8,
   "id": "33f6bb67",
   "metadata": {},
   "outputs": [],
   "source": [
    "# Create rows of random numbers (length of df) from 0 to 1\n",
    "\n",
    "dev = np.random.rand(len(cust_ords_prods)) <= .7"
   ]
  },
  {
   "cell_type": "code",
   "execution_count": 9,
   "id": "5f113f03",
   "metadata": {},
   "outputs": [],
   "source": [
    "# Store results of the test in a new list (big for 70% of sample and small for 30%), dev as True or False\n",
    "\n",
    "big = cust_ords_prods[dev]\n",
    "small = cust_ords_prods[~dev]"
   ]
  },
  {
   "cell_type": "code",
   "execution_count": 10,
   "id": "15672d99",
   "metadata": {},
   "outputs": [
    {
     "data": {
      "text/plain": [
       "32404859"
      ]
     },
     "execution_count": 10,
     "metadata": {},
     "output_type": "execute_result"
    }
   ],
   "source": [
    "len(cust_ords_prods)"
   ]
  },
  {
   "cell_type": "code",
   "execution_count": 11,
   "id": "82090f11",
   "metadata": {
    "scrolled": false
   },
   "outputs": [
    {
     "data": {
      "text/plain": [
       "32404859"
      ]
     },
     "execution_count": 11,
     "metadata": {},
     "output_type": "execute_result"
    }
   ],
   "source": [
    "len(big) + len(small)"
   ]
  },
  {
   "cell_type": "markdown",
   "id": "2a6a81de",
   "metadata": {},
   "source": [
    "#### Observation: big + small = entire df, which shows an account of all data."
   ]
  },
  {
   "cell_type": "markdown",
   "id": "f916c802",
   "metadata": {},
   "source": [
    "#### reduce sample to columns necessary for the line chart in c_o_p_2 df"
   ]
  },
  {
   "cell_type": "code",
   "execution_count": 6,
   "id": "86d2b60e",
   "metadata": {},
   "outputs": [
    {
     "ename": "NameError",
     "evalue": "name 'small' is not defined",
     "output_type": "error",
     "traceback": [
      "\u001b[0;31m---------------------------------------------------------------------------\u001b[0m",
      "\u001b[0;31mNameError\u001b[0m                                 Traceback (most recent call last)",
      "Cell \u001b[0;32mIn[6], line 1\u001b[0m\n\u001b[0;32m----> 1\u001b[0m c_o_p_2 \u001b[38;5;241m=\u001b[39m \u001b[43msmall\u001b[49m[[\u001b[38;5;124m'\u001b[39m\u001b[38;5;124morders_day_of_week\u001b[39m\u001b[38;5;124m'\u001b[39m,\u001b[38;5;124m'\u001b[39m\u001b[38;5;124mprices\u001b[39m\u001b[38;5;124m'\u001b[39m]]\n",
      "\u001b[0;31mNameError\u001b[0m: name 'small' is not defined"
     ]
    }
   ],
   "source": [
    "c_o_p_2 = small[['orders_day_of_week','prices']]"
   ]
  },
  {
   "cell_type": "code",
   "execution_count": 37,
   "id": "254a3605",
   "metadata": {
    "scrolled": true
   },
   "outputs": [
    {
     "ename": "NameError",
     "evalue": "name 'c_o_p_2' is not defined",
     "output_type": "error",
     "traceback": [
      "\u001b[0;31m---------------------------------------------------------------------------\u001b[0m",
      "\u001b[0;31mNameError\u001b[0m                                 Traceback (most recent call last)",
      "Cell \u001b[0;32mIn[37], line 1\u001b[0m\n\u001b[0;32m----> 1\u001b[0m line_prices \u001b[38;5;241m=\u001b[39m sns\u001b[38;5;241m.\u001b[39mlineplot(data \u001b[38;5;241m=\u001b[39m \u001b[43mc_o_p_2\u001b[49m, x \u001b[38;5;241m=\u001b[39m \u001b[38;5;124m'\u001b[39m\u001b[38;5;124morders_day_of_week\u001b[39m\u001b[38;5;124m'\u001b[39m,y \u001b[38;5;241m=\u001b[39m \u001b[38;5;124m'\u001b[39m\u001b[38;5;124mprices\u001b[39m\u001b[38;5;124m'\u001b[39m)\n\u001b[1;32m      2\u001b[0m line_prices\u001b[38;5;241m.\u001b[39mset_xticklabels[\u001b[38;5;124m'\u001b[39m\u001b[38;5;124mSun\u001b[39m\u001b[38;5;124m'\u001b[39m,\u001b[38;5;124m'\u001b[39m\u001b[38;5;124mMon\u001b[39m\u001b[38;5;124m'\u001b[39m, \u001b[38;5;124m'\u001b[39m\u001b[38;5;124mTue\u001b[39m\u001b[38;5;124m'\u001b[39m, \u001b[38;5;124m'\u001b[39m\u001b[38;5;124mWed\u001b[39m\u001b[38;5;124m'\u001b[39m, \u001b[38;5;124m'\u001b[39m\u001b[38;5;124mThur\u001b[39m\u001b[38;5;124m'\u001b[39m, \u001b[38;5;124m'\u001b[39m\u001b[38;5;124mFri\u001b[39m\u001b[38;5;124m'\u001b[39m, \u001b[38;5;124m'\u001b[39m\u001b[38;5;124mSat\u001b[39m\u001b[38;5;124m'\u001b[39m]\n",
      "\u001b[0;31mNameError\u001b[0m: name 'c_o_p_2' is not defined"
     ]
    }
   ],
   "source": [
    "line_prices = sns.lineplot(data = c_o_p_2, x = 'orders_day_of_week',y = 'prices')\n",
    "line_prices.set_xticklabels['Sun','Mon', 'Tue', 'Wed', 'Thur', 'Fri', 'Sat']"
   ]
  },
  {
   "cell_type": "markdown",
   "id": "4db6ba37",
   "metadata": {},
   "source": [
    "#### Observation: the line chart shows most orders are made on Saturday(0) and Friday (6), the least amount of orders is on Monday."
   ]
  },
  {
   "cell_type": "markdown",
   "id": "ec6afb21",
   "metadata": {},
   "source": [
    "### Question(3) Create a histogram of the “order_hour_of_day” column.<br>\n",
    "5. hist_ohod ('order_hour_of_day') from cust_ords_prods"
   ]
  },
  {
   "cell_type": "code",
   "execution_count": 32,
   "id": "bcee4399",
   "metadata": {},
   "outputs": [
    {
     "data": {
      "image/png": "[encoded data removed]",
      "text/plain": [
       "<Figure size 640x480 with 1 Axes>"
      ]
     },
     "metadata": {},
     "output_type": "display_data"
    }
   ],
   "source": [
    "hist_ohod = cust_ords_prods['order_hour_of_day'].plot.hist(bins = 45)"
   ]
  },
  {
   "cell_type": "markdown",
   "id": "77de0e9b",
   "metadata": {},
   "source": [
    "#### Observation: The chart shows that most orders are made close to 10am thru 3pm. The least amount of orders are made between 12am and 5am."
   ]
  },
  {
   "cell_type": "markdown",
   "id": "4fa11149",
   "metadata": {},
   "source": [
    "### Question(4) Create a bar chart from the “loyalty_flag” column.<br>\n",
    "6. bar_loy ('loyalty') from ords_prods_merge"
   ]
  },
  {
   "cell_type": "code",
   "execution_count": 13,
   "id": "3d9aaee9",
   "metadata": {},
   "outputs": [],
   "source": [
    "path = r'/Users/margoshogren/Desktop/1 Margo-CF Folder/4 Python/4-2023 Instacart Basket Analysis'\n",
    "ords_prods_merge = pd.read_pickle(os.path.join(path,'2 Data','prepared data','ords_prods_wgrps.pkl'))"
   ]
  },
  {
   "cell_type": "code",
   "execution_count": 35,
   "id": "956d13ae",
   "metadata": {
    "scrolled": false
   },
   "outputs": [
    {
     "data": {
      "image/png": "[encoded data removed]",
      "text/plain": [
       "<Figure size 640x480 with 1 Axes>"
      ]
     },
     "metadata": {},
     "output_type": "display_data"
    }
   ],
   "source": [
    "bar_loy = ords_prods_merge['loyalty_flag'].value_counts().plot.bar()"
   ]
  },
  {
   "cell_type": "markdown",
   "id": "b7add2be",
   "metadata": {},
   "source": [
    "#### Observation: Most of the Instacart customers are in the 'regular customer' category, followed by 'loyal' and then 'new'"
   ]
  },
  {
   "cell_type": "markdown",
   "id": "dfe42985",
   "metadata": {},
   "source": [
    "#### Export all visualizations <br>\n",
    "    -Question(2)\n",
    "1. Bar_DOW (day_of_week) from Cust_ords_prods\n",
    "2. hist_prices from Cust_ords_prods\n",
    "3. scatter_prices from Cust_ords_prods\n",
    "4. line_prices from Cust_ords_prods -sample df <br>\n",
    "\n",
    "    -Question(3)\n",
    "5. hist_ohod (order_hour_of_day) from Cust_ords_prods<br>\n",
    "\n",
    "    -Question(4)\n",
    "6. bar_loy (loyalty) from ords_prods_merge\n"
   ]
  },
  {
   "cell_type": "code",
   "execution_count": 38,
   "id": "0db25e0c",
   "metadata": {},
   "outputs": [],
   "source": [
    "# 1. bar_order_DOW\n",
    "bar_order_DOW.figure.savefig(os.path.join(path,'04 Analysis','Visualizations','Bar_order_DOW.png'))"
   ]
  },
  {
   "cell_type": "code",
   "execution_count": 5,
   "id": "807a7a04",
   "metadata": {},
   "outputs": [],
   "source": [
    "#1b line odow\n",
    "lines.figure.savefig(os.path.join(path,'04 Analysis','Visualizations','line_odow.png'))"
   ]
  },
  {
   "cell_type": "code",
   "execution_count": null,
   "id": "ff273234",
   "metadata": {},
   "outputs": [],
   "source": [
    "# 2. hist_prices\n",
    "hist_prices.figure.savefig(os.path.join(path,'04 Analysis','Visualizations','hist_prices'))"
   ]
  },
  {
   "cell_type": "code",
   "execution_count": null,
   "id": "90ccb19a",
   "metadata": {},
   "outputs": [],
   "source": [
    "# 3. scatter_prices\n",
    "scatter_prices.figure.savefig(os.path.join(path,'04 Analysis','Visualizations','scatter_prices'))"
   ]
  },
  {
   "cell_type": "code",
   "execution_count": null,
   "id": "35c7dc08",
   "metadata": {},
   "outputs": [],
   "source": [
    "# 4. line_prices\n",
    "line_prices.figure.savefig(os.path.join(path,'04 Analysis','Visualizations','line_prices'))"
   ]
  },
  {
   "cell_type": "code",
   "execution_count": null,
   "id": "9402ae9b",
   "metadata": {},
   "outputs": [],
   "source": [
    "# 5. hist_ohod\n",
    "hist_ohod.figure.savefig(os.path.join(path,'04 Analysis','Visualizations','hist_ohod'))"
   ]
  },
  {
   "cell_type": "code",
   "execution_count": 16,
   "id": "1a3c9732",
   "metadata": {},
   "outputs": [],
   "source": [
    "# 6. bar_loy \n",
    "bar_loy.figure.savefig(os.path.join(path,'04 Analysis','Visualizations','Bar_loyalty.png'))"
   ]
  },
  {
   "cell_type": "code",
   "execution_count": null,
   "id": "d50a8875",
   "metadata": {},
   "outputs": [],
   "source": [
    "# Export script to pickle file 'custords49_2a.pkl'\n",
    "cust_ords_prods.to_pickle(os.path.join(path,'2 Data','prepared data', 'custords49_2a.pkl'))"
   ]
  },
  {
   "cell_type": "markdown",
   "id": "3b1f6408",
   "metadata": {},
   "source": [
    "#### to continue on 4.9 part 2a for Questions(5)-(8)"
   ]
  }
 ],
 "metadata": {
  "kernelspec": {
   "display_name": "Python 3 (ipykernel)",
   "language": "python",
   "name": "python3"
  },
  "language_info": {
   "codemirror_mode": {
    "name": "ipython",
    "version": 3
   },
   "file_extension": ".py",
   "mimetype": "text/x-python",
   "name": "python",
   "nbconvert_exporter": "python",
   "pygments_lexer": "ipython3",
   "version": "3.10.9"
  }
 },
 "nbformat": 4,
 "nbformat_minor": 5
}
