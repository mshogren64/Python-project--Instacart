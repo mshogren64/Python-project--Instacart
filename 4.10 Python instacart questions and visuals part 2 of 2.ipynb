{
 "cells": [
  {
   "cell_type": "markdown",
   "id": "22501e61",
   "metadata": {},
   "source": [
    "### Instacart 4.10 part 2 of 2 (continued) Coding etiquette<br>\n",
    "Create a crosstab<br>\n",
    "look at marital status<br>\n",
    "pie chart of marital status"
   ]
  },
  {
   "cell_type": "code",
   "execution_count": 1,
   "id": "84012d87",
   "metadata": {},
   "outputs": [],
   "source": [
    "#import libraries\n",
    "import pandas as pd\n",
    "import numpy as np\n",
    "import os \n",
    "import matplotlib.pyplot as plt\n",
    "import seaborn as sns\n",
    "import scipy"
   ]
  },
  {
   "cell_type": "code",
   "execution_count": 2,
   "id": "d2fa2f27",
   "metadata": {},
   "outputs": [],
   "source": [
    "# /* Create path (to project file), import 4.10 pickle file */\n",
    "path = r'/Users/margoshogren/Desktop/1 Margo-CF Folder -desktop/4 Python/4-2023 Instacart Basket Analysis'\n",
    "c_o_p410 = pd.read_pickle(os.path.join(path,'2 Data','prepared data','c_o_p410.pkl'))"
   ]
  },
  {
   "cell_type": "markdown",
   "id": "1cd372bd",
   "metadata": {},
   "source": [
    "#### Use the crosstab to excel to check the missing 'day_since_prior_order' to find out if all the missing values are for order 1."
   ]
  },
  {
   "cell_type": "code",
   "execution_count": 5,
   "id": "7678121f",
   "metadata": {},
   "outputs": [],
   "source": [
    "crosstab = pd.crosstab(c_o_p410['days_since_prior_order'], c_o_p410['order_number'], dropna = False)"
   ]
  },
  {
   "cell_type": "code",
   "execution_count": 6,
   "id": "2c40fd15",
   "metadata": {},
   "outputs": [],
   "source": [
    "crosstab.to_clipboard()"
   ]
  },
  {
   "cell_type": "markdown",
   "id": "d458be84",
   "metadata": {},
   "source": [
    "#### Observation: Yes all the above are for order 1, so the values can be zero."
   ]
  },
  {
   "cell_type": "code",
   "execution_count": 11,
   "id": "71316f59",
   "metadata": {
    "scrolled": true
   },
   "outputs": [
    {
     "data": {
      "text/plain": [
       "(30964564, 29)"
      ]
     },
     "execution_count": 11,
     "metadata": {},
     "output_type": "execute_result"
    }
   ],
   "source": [
    "#Check the shape of the df, to make sure it is what we expected.\n",
    "c_o_p410.shape"
   ]
  },
  {
   "cell_type": "code",
   "execution_count": 12,
   "id": "4865c8f4",
   "metadata": {
    "scrolled": true
   },
   "outputs": [
    {
     "data": {
      "text/plain": [
       "Index(['user_id', 'First_Name', 'Last_Name', 'Gender', 'State', 'Age',\n",
       "       'date_joined', 'no_of_dep', 'Marital_status', 'income', 'product_id',\n",
       "       'product_name', 'aisle_id', 'department_id', 'prices', 'order_id',\n",
       "       'order_number', 'orders_day_of_week', 'order_hour_of_day',\n",
       "       'days_since_prior_order', 'add_to_cart_order', 'reordered', '_merge',\n",
       "       'price_range_loc', 'Busiest_days', 'busiest_period_of_day', 'max_order',\n",
       "       'Regions', '<_5_order'],\n",
       "      dtype='object')"
      ]
     },
     "execution_count": 12,
     "metadata": {},
     "output_type": "execute_result"
    }
   ],
   "source": [
    "c_o_p410.columns"
   ]
  },
  {
   "cell_type": "code",
   "execution_count": 6,
   "id": "76eda5af",
   "metadata": {
    "scrolled": false
   },
   "outputs": [
    {
     "data": {
      "text/plain": [
       "married                             21743711\n",
       "single                               5094410\n",
       "divorced/widowed                     2645271\n",
       "living with parents and siblings     1481172\n",
       "Name: Marital_status, dtype: int64"
      ]
     },
     "execution_count": 6,
     "metadata": {},
     "output_type": "execute_result"
    }
   ],
   "source": [
    "# What is most frequent marital status of customers\n",
    "c_o_p410['Marital_status'].value_counts(dropna = False)"
   ]
  },
  {
   "cell_type": "code",
   "execution_count": 7,
   "id": "6dee0e59",
   "metadata": {},
   "outputs": [],
   "source": [
    "df_mar_st = c_o_p410['Marital_status'].value_counts(dropna = False).reset_index()"
   ]
  },
  {
   "cell_type": "code",
   "execution_count": 8,
   "id": "8e6e383e",
   "metadata": {
    "scrolled": false
   },
   "outputs": [
    {
     "data": {
      "text/html": [
       "<div>\n",
       "<style scoped>\n",
       "    .dataframe tbody tr th:only-of-type {\n",
       "        vertical-align: middle;\n",
       "    }\n",
       "\n",
       "    .dataframe tbody tr th {\n",
       "        vertical-align: top;\n",
       "    }\n",
       "\n",
       "    .dataframe thead th {\n",
       "        text-align: right;\n",
       "    }\n",
       "</style>\n",
       "<table border=\"1\" class=\"dataframe\">\n",
       "  <thead>\n",
       "    <tr style=\"text-align: right;\">\n",
       "      <th></th>\n",
       "      <th>index</th>\n",
       "      <th>Marital_status</th>\n",
       "    </tr>\n",
       "  </thead>\n",
       "  <tbody>\n",
       "    <tr>\n",
       "      <th>0</th>\n",
       "      <td>married</td>\n",
       "      <td>21743711</td>\n",
       "    </tr>\n",
       "    <tr>\n",
       "      <th>1</th>\n",
       "      <td>single</td>\n",
       "      <td>5094410</td>\n",
       "    </tr>\n",
       "    <tr>\n",
       "      <th>2</th>\n",
       "      <td>divorced/widowed</td>\n",
       "      <td>2645271</td>\n",
       "    </tr>\n",
       "    <tr>\n",
       "      <th>3</th>\n",
       "      <td>living with parents and siblings</td>\n",
       "      <td>1481172</td>\n",
       "    </tr>\n",
       "  </tbody>\n",
       "</table>\n",
       "</div>"
      ],
      "text/plain": [
       "                              index  Marital_status\n",
       "0                           married        21743711\n",
       "1                            single         5094410\n",
       "2                  divorced/widowed         2645271\n",
       "3  living with parents and siblings         1481172"
      ]
     },
     "execution_count": 8,
     "metadata": {},
     "output_type": "execute_result"
    }
   ],
   "source": [
    "df_mar_st.head()"
   ]
  },
  {
   "cell_type": "code",
   "execution_count": 9,
   "id": "8c9cc3e8",
   "metadata": {
    "scrolled": true
   },
   "outputs": [],
   "source": [
    "df_mar_st2 = df_mar_st.rename(columns = {'index':'Marital_stat','Marital_status':'count_of_family_status'})"
   ]
  },
  {
   "cell_type": "code",
   "execution_count": 10,
   "id": "581298db",
   "metadata": {
    "scrolled": false
   },
   "outputs": [
    {
     "data": {
      "text/html": [
       "<div>\n",
       "<style scoped>\n",
       "    .dataframe tbody tr th:only-of-type {\n",
       "        vertical-align: middle;\n",
       "    }\n",
       "\n",
       "    .dataframe tbody tr th {\n",
       "        vertical-align: top;\n",
       "    }\n",
       "\n",
       "    .dataframe thead th {\n",
       "        text-align: right;\n",
       "    }\n",
       "</style>\n",
       "<table border=\"1\" class=\"dataframe\">\n",
       "  <thead>\n",
       "    <tr style=\"text-align: right;\">\n",
       "      <th></th>\n",
       "      <th>Marital_stat</th>\n",
       "      <th>count_of_family_status</th>\n",
       "    </tr>\n",
       "  </thead>\n",
       "  <tbody>\n",
       "    <tr>\n",
       "      <th>0</th>\n",
       "      <td>married</td>\n",
       "      <td>21743711</td>\n",
       "    </tr>\n",
       "    <tr>\n",
       "      <th>1</th>\n",
       "      <td>single</td>\n",
       "      <td>5094410</td>\n",
       "    </tr>\n",
       "    <tr>\n",
       "      <th>2</th>\n",
       "      <td>divorced/widowed</td>\n",
       "      <td>2645271</td>\n",
       "    </tr>\n",
       "    <tr>\n",
       "      <th>3</th>\n",
       "      <td>living with parents and siblings</td>\n",
       "      <td>1481172</td>\n",
       "    </tr>\n",
       "  </tbody>\n",
       "</table>\n",
       "</div>"
      ],
      "text/plain": [
       "                       Marital_stat  count_of_family_status\n",
       "0                           married                21743711\n",
       "1                            single                 5094410\n",
       "2                  divorced/widowed                 2645271\n",
       "3  living with parents and siblings                 1481172"
      ]
     },
     "execution_count": 10,
     "metadata": {},
     "output_type": "execute_result"
    }
   ],
   "source": [
    "df_mar_st2.head()"
   ]
  },
  {
   "cell_type": "code",
   "execution_count": 11,
   "id": "5377911d",
   "metadata": {
    "scrolled": true
   },
   "outputs": [
    {
     "data": {
      "text/plain": [
       "0                             married\n",
       "1                              single\n",
       "2                    divorced/widowed\n",
       "3    living with parents and siblings\n",
       "Name: Marital_stat, dtype: object"
      ]
     },
     "execution_count": 11,
     "metadata": {},
     "output_type": "execute_result"
    }
   ],
   "source": [
    "df_mar_st2['Marital_stat'].astype(str)"
   ]
  },
  {
   "cell_type": "markdown",
   "id": "431dddbb",
   "metadata": {},
   "source": [
    "## Pie chart of marital status"
   ]
  },
  {
   "cell_type": "code",
   "execution_count": 25,
   "id": "9c05cb8d",
   "metadata": {
    "scrolled": false
   },
   "outputs": [
    {
     "data": {
      "image/png": "[encoded data removed]",
      "text/plain": [
       "<Figure size 640x480 with 1 Axes>"
      ]
     },
     "metadata": {},
     "output_type": "display_data"
    }
   ],
   "source": [
    "# add labels\n",
    "label = ['married', 'single', 'divorced/widowed', 'living with parents and siblings']\n",
    "\n",
    "#create pie plot with percents\n",
    "plot = plt.pie(data = df_mar_st2,x='count_of_family_status', labels=label, autopct='%1.0f%%')\n",
    "\n",
    "#delete legend\n",
    "plt.legend().remove()\n",
    "\n",
    "# title\n",
    "plt.title('customer family status percentage')\n",
    "\n",
    "# display chart\n",
    "plt.show()\n"
   ]
  },
  {
   "cell_type": "markdown",
   "id": "8ef8d741",
   "metadata": {},
   "source": [
    "#### Observation: Most customers are married, followed by single"
   ]
  },
  {
   "cell_type": "markdown",
   "id": "84a1a795",
   "metadata": {},
   "source": [
    "### Check for connection between age and family status"
   ]
  },
  {
   "cell_type": "code",
   "execution_count": 24,
   "id": "ff0d1388",
   "metadata": {
    "scrolled": true
   },
   "outputs": [
    {
     "data": {
      "text/html": [
       "<div>\n",
       "<style scoped>\n",
       "    .dataframe tbody tr th:only-of-type {\n",
       "        vertical-align: middle;\n",
       "    }\n",
       "\n",
       "    .dataframe tbody tr th {\n",
       "        vertical-align: top;\n",
       "    }\n",
       "\n",
       "    .dataframe thead tr th {\n",
       "        text-align: left;\n",
       "    }\n",
       "\n",
       "    .dataframe thead tr:last-of-type th {\n",
       "        text-align: right;\n",
       "    }\n",
       "</style>\n",
       "<table border=\"1\" class=\"dataframe\">\n",
       "  <thead>\n",
       "    <tr>\n",
       "      <th></th>\n",
       "      <th colspan=\"3\" halign=\"left\">Age</th>\n",
       "    </tr>\n",
       "    <tr>\n",
       "      <th></th>\n",
       "      <th>mean</th>\n",
       "      <th>max</th>\n",
       "      <th>min</th>\n",
       "    </tr>\n",
       "    <tr>\n",
       "      <th>Marital_status</th>\n",
       "      <th></th>\n",
       "      <th></th>\n",
       "      <th></th>\n",
       "    </tr>\n",
       "  </thead>\n",
       "  <tbody>\n",
       "    <tr>\n",
       "      <th>divorced/widowed</th>\n",
       "      <td>70.510585</td>\n",
       "      <td>81</td>\n",
       "      <td>60</td>\n",
       "    </tr>\n",
       "    <tr>\n",
       "      <th>living with parents and siblings</th>\n",
       "      <td>19.502090</td>\n",
       "      <td>21</td>\n",
       "      <td>18</td>\n",
       "    </tr>\n",
       "    <tr>\n",
       "      <th>married</th>\n",
       "      <td>51.495620</td>\n",
       "      <td>81</td>\n",
       "      <td>22</td>\n",
       "    </tr>\n",
       "    <tr>\n",
       "      <th>single</th>\n",
       "      <td>38.600037</td>\n",
       "      <td>59</td>\n",
       "      <td>18</td>\n",
       "    </tr>\n",
       "  </tbody>\n",
       "</table>\n",
       "</div>"
      ],
      "text/plain": [
       "                                        Age        \n",
       "                                       mean max min\n",
       "Marital_status                                     \n",
       "divorced/widowed                  70.510585  81  60\n",
       "living with parents and siblings  19.502090  21  18\n",
       "married                           51.495620  81  22\n",
       "single                            38.600037  59  18"
      ]
     },
     "execution_count": 24,
     "metadata": {},
     "output_type": "execute_result"
    }
   ],
   "source": [
    "c_o_p410.groupby('Marital_status').agg({'Age':['mean','max','min']})"
   ]
  },
  {
   "cell_type": "code",
   "execution_count": 15,
   "id": "70dd5ba2",
   "metadata": {
    "scrolled": true
   },
   "outputs": [
    {
     "data": {
      "text/html": [
       "<div>\n",
       "<style scoped>\n",
       "    .dataframe tbody tr th:only-of-type {\n",
       "        vertical-align: middle;\n",
       "    }\n",
       "\n",
       "    .dataframe tbody tr th {\n",
       "        vertical-align: top;\n",
       "    }\n",
       "\n",
       "    .dataframe thead th {\n",
       "        text-align: right;\n",
       "    }\n",
       "</style>\n",
       "<table border=\"1\" class=\"dataframe\">\n",
       "  <thead>\n",
       "    <tr style=\"text-align: right;\">\n",
       "      <th></th>\n",
       "      <th>user_id</th>\n",
       "      <th>Age</th>\n",
       "      <th>no_of_dep</th>\n",
       "      <th>income</th>\n",
       "      <th>product_id</th>\n",
       "      <th>aisle_id</th>\n",
       "      <th>department_id</th>\n",
       "      <th>prices</th>\n",
       "      <th>order_id</th>\n",
       "      <th>order_number</th>\n",
       "      <th>orders_day_of_week</th>\n",
       "      <th>order_hour_of_day</th>\n",
       "      <th>days_since_prior_order</th>\n",
       "      <th>add_to_cart_order</th>\n",
       "      <th>reordered</th>\n",
       "      <th>max_order</th>\n",
       "    </tr>\n",
       "  </thead>\n",
       "  <tbody>\n",
       "    <tr>\n",
       "      <th>count</th>\n",
       "      <td>3.096456e+07</td>\n",
       "      <td>3.096456e+07</td>\n",
       "      <td>3.096456e+07</td>\n",
       "      <td>3.096456e+07</td>\n",
       "      <td>3.096456e+07</td>\n",
       "      <td>3.096456e+07</td>\n",
       "      <td>3.096456e+07</td>\n",
       "      <td>3.096456e+07</td>\n",
       "      <td>3.096456e+07</td>\n",
       "      <td>3.096456e+07</td>\n",
       "      <td>3.096456e+07</td>\n",
       "      <td>3.096456e+07</td>\n",
       "      <td>2.930328e+07</td>\n",
       "      <td>3.096456e+07</td>\n",
       "      <td>3.096456e+07</td>\n",
       "      <td>3.096456e+07</td>\n",
       "    </tr>\n",
       "    <tr>\n",
       "      <th>mean</th>\n",
       "      <td>1.029284e+05</td>\n",
       "      <td>4.946803e+01</td>\n",
       "      <td>1.501819e+00</td>\n",
       "      <td>9.967587e+04</td>\n",
       "      <td>2.559850e+04</td>\n",
       "      <td>7.118859e+01</td>\n",
       "      <td>9.922365e+00</td>\n",
       "      <td>7.789777e+00</td>\n",
       "      <td>1.710317e+06</td>\n",
       "      <td>1.783414e+01</td>\n",
       "      <td>2.741397e+00</td>\n",
       "      <td>1.341098e+01</td>\n",
       "      <td>1.081030e+01</td>\n",
       "      <td>8.363038e+00</td>\n",
       "      <td>6.061019e-01</td>\n",
       "      <td>3.442569e+01</td>\n",
       "    </tr>\n",
       "    <tr>\n",
       "      <th>std</th>\n",
       "      <td>5.947061e+04</td>\n",
       "      <td>1.848528e+01</td>\n",
       "      <td>1.118896e+00</td>\n",
       "      <td>4.314187e+04</td>\n",
       "      <td>1.408096e+04</td>\n",
       "      <td>3.822194e+01</td>\n",
       "      <td>6.282441e+00</td>\n",
       "      <td>4.240912e+00</td>\n",
       "      <td>9.873785e+05</td>\n",
       "      <td>1.763442e+01</td>\n",
       "      <td>2.089254e+00</td>\n",
       "      <td>4.248845e+00</td>\n",
       "      <td>8.578590e+00</td>\n",
       "      <td>7.135399e+00</td>\n",
       "      <td>4.886127e-01</td>\n",
       "      <td>2.489504e+01</td>\n",
       "    </tr>\n",
       "    <tr>\n",
       "      <th>min</th>\n",
       "      <td>1.000000e+00</td>\n",
       "      <td>1.800000e+01</td>\n",
       "      <td>0.000000e+00</td>\n",
       "      <td>2.590300e+04</td>\n",
       "      <td>1.000000e+00</td>\n",
       "      <td>1.000000e+00</td>\n",
       "      <td>1.000000e+00</td>\n",
       "      <td>1.000000e+00</td>\n",
       "      <td>2.000000e+00</td>\n",
       "      <td>1.000000e+00</td>\n",
       "      <td>0.000000e+00</td>\n",
       "      <td>0.000000e+00</td>\n",
       "      <td>0.000000e+00</td>\n",
       "      <td>1.000000e+00</td>\n",
       "      <td>0.000000e+00</td>\n",
       "      <td>5.000000e+00</td>\n",
       "    </tr>\n",
       "    <tr>\n",
       "      <th>25%</th>\n",
       "      <td>5.140900e+04</td>\n",
       "      <td>3.300000e+01</td>\n",
       "      <td>1.000000e+00</td>\n",
       "      <td>6.729200e+04</td>\n",
       "      <td>1.354400e+04</td>\n",
       "      <td>3.100000e+01</td>\n",
       "      <td>4.000000e+00</td>\n",
       "      <td>4.200000e+00</td>\n",
       "      <td>8.554120e+05</td>\n",
       "      <td>5.000000e+00</td>\n",
       "      <td>1.000000e+00</td>\n",
       "      <td>1.000000e+01</td>\n",
       "      <td>5.000000e+00</td>\n",
       "      <td>3.000000e+00</td>\n",
       "      <td>0.000000e+00</td>\n",
       "      <td>1.400000e+01</td>\n",
       "    </tr>\n",
       "    <tr>\n",
       "      <th>50%</th>\n",
       "      <td>1.025860e+05</td>\n",
       "      <td>4.900000e+01</td>\n",
       "      <td>2.000000e+00</td>\n",
       "      <td>9.676500e+04</td>\n",
       "      <td>2.528800e+04</td>\n",
       "      <td>8.300000e+01</td>\n",
       "      <td>9.000000e+00</td>\n",
       "      <td>7.400000e+00</td>\n",
       "      <td>1.710404e+06</td>\n",
       "      <td>1.200000e+01</td>\n",
       "      <td>3.000000e+00</td>\n",
       "      <td>1.300000e+01</td>\n",
       "      <td>7.000000e+00</td>\n",
       "      <td>6.000000e+00</td>\n",
       "      <td>1.000000e+00</td>\n",
       "      <td>2.800000e+01</td>\n",
       "    </tr>\n",
       "    <tr>\n",
       "      <th>75%</th>\n",
       "      <td>1.543870e+05</td>\n",
       "      <td>6.500000e+01</td>\n",
       "      <td>3.000000e+00</td>\n",
       "      <td>1.281020e+05</td>\n",
       "      <td>3.794700e+04</td>\n",
       "      <td>1.070000e+02</td>\n",
       "      <td>1.600000e+01</td>\n",
       "      <td>1.130000e+01</td>\n",
       "      <td>2.565206e+06</td>\n",
       "      <td>2.500000e+01</td>\n",
       "      <td>5.000000e+00</td>\n",
       "      <td>1.600000e+01</td>\n",
       "      <td>1.400000e+01</td>\n",
       "      <td>1.100000e+01</td>\n",
       "      <td>1.000000e+00</td>\n",
       "      <td>4.800000e+01</td>\n",
       "    </tr>\n",
       "    <tr>\n",
       "      <th>max</th>\n",
       "      <td>2.062090e+05</td>\n",
       "      <td>8.100000e+01</td>\n",
       "      <td>3.000000e+00</td>\n",
       "      <td>5.939010e+05</td>\n",
       "      <td>4.968800e+04</td>\n",
       "      <td>1.340000e+02</td>\n",
       "      <td>2.100000e+01</td>\n",
       "      <td>2.500000e+01</td>\n",
       "      <td>3.421083e+06</td>\n",
       "      <td>9.900000e+01</td>\n",
       "      <td>6.000000e+00</td>\n",
       "      <td>2.300000e+01</td>\n",
       "      <td>3.000000e+01</td>\n",
       "      <td>1.450000e+02</td>\n",
       "      <td>1.000000e+00</td>\n",
       "      <td>9.900000e+01</td>\n",
       "    </tr>\n",
       "  </tbody>\n",
       "</table>\n",
       "</div>"
      ],
      "text/plain": [
       "            user_id           Age     no_of_dep        income    product_id  \\\n",
       "count  3.096456e+07  3.096456e+07  3.096456e+07  3.096456e+07  3.096456e+07   \n",
       "mean   1.029284e+05  4.946803e+01  1.501819e+00  9.967587e+04  2.559850e+04   \n",
       "std    5.947061e+04  1.848528e+01  1.118896e+00  4.314187e+04  1.408096e+04   \n",
       "min    1.000000e+00  1.800000e+01  0.000000e+00  2.590300e+04  1.000000e+00   \n",
       "25%    5.140900e+04  3.300000e+01  1.000000e+00  6.729200e+04  1.354400e+04   \n",
       "50%    1.025860e+05  4.900000e+01  2.000000e+00  9.676500e+04  2.528800e+04   \n",
       "75%    1.543870e+05  6.500000e+01  3.000000e+00  1.281020e+05  3.794700e+04   \n",
       "max    2.062090e+05  8.100000e+01  3.000000e+00  5.939010e+05  4.968800e+04   \n",
       "\n",
       "           aisle_id  department_id        prices      order_id  order_number  \\\n",
       "count  3.096456e+07   3.096456e+07  3.096456e+07  3.096456e+07  3.096456e+07   \n",
       "mean   7.118859e+01   9.922365e+00  7.789777e+00  1.710317e+06  1.783414e+01   \n",
       "std    3.822194e+01   6.282441e+00  4.240912e+00  9.873785e+05  1.763442e+01   \n",
       "min    1.000000e+00   1.000000e+00  1.000000e+00  2.000000e+00  1.000000e+00   \n",
       "25%    3.100000e+01   4.000000e+00  4.200000e+00  8.554120e+05  5.000000e+00   \n",
       "50%    8.300000e+01   9.000000e+00  7.400000e+00  1.710404e+06  1.200000e+01   \n",
       "75%    1.070000e+02   1.600000e+01  1.130000e+01  2.565206e+06  2.500000e+01   \n",
       "max    1.340000e+02   2.100000e+01  2.500000e+01  3.421083e+06  9.900000e+01   \n",
       "\n",
       "       orders_day_of_week  order_hour_of_day  days_since_prior_order  \\\n",
       "count        3.096456e+07       3.096456e+07            2.930328e+07   \n",
       "mean         2.741397e+00       1.341098e+01            1.081030e+01   \n",
       "std          2.089254e+00       4.248845e+00            8.578590e+00   \n",
       "min          0.000000e+00       0.000000e+00            0.000000e+00   \n",
       "25%          1.000000e+00       1.000000e+01            5.000000e+00   \n",
       "50%          3.000000e+00       1.300000e+01            7.000000e+00   \n",
       "75%          5.000000e+00       1.600000e+01            1.400000e+01   \n",
       "max          6.000000e+00       2.300000e+01            3.000000e+01   \n",
       "\n",
       "       add_to_cart_order     reordered     max_order  \n",
       "count       3.096456e+07  3.096456e+07  3.096456e+07  \n",
       "mean        8.363038e+00  6.061019e-01  3.442569e+01  \n",
       "std         7.135399e+00  4.886127e-01  2.489504e+01  \n",
       "min         1.000000e+00  0.000000e+00  5.000000e+00  \n",
       "25%         3.000000e+00  0.000000e+00  1.400000e+01  \n",
       "50%         6.000000e+00  1.000000e+00  2.800000e+01  \n",
       "75%         1.100000e+01  1.000000e+00  4.800000e+01  \n",
       "max         1.450000e+02  1.000000e+00  9.900000e+01  "
      ]
     },
     "execution_count": 15,
     "metadata": {},
     "output_type": "execute_result"
    }
   ],
   "source": [
    "c_o_p410.describe()"
   ]
  },
  {
   "cell_type": "code",
   "execution_count": 20,
   "id": "bee09a4e",
   "metadata": {},
   "outputs": [
    {
     "data": {
      "text/html": [
       "<div>\n",
       "<style scoped>\n",
       "    .dataframe tbody tr th:only-of-type {\n",
       "        vertical-align: middle;\n",
       "    }\n",
       "\n",
       "    .dataframe tbody tr th {\n",
       "        vertical-align: top;\n",
       "    }\n",
       "\n",
       "    .dataframe thead th {\n",
       "        text-align: right;\n",
       "    }\n",
       "</style>\n",
       "<table border=\"1\" class=\"dataframe\">\n",
       "  <thead>\n",
       "    <tr style=\"text-align: right;\">\n",
       "      <th></th>\n",
       "      <th>Age</th>\n",
       "      <th>income</th>\n",
       "      <th>no_of_dep</th>\n",
       "    </tr>\n",
       "  </thead>\n",
       "  <tbody>\n",
       "    <tr>\n",
       "      <th>count</th>\n",
       "      <td>3.096456e+07</td>\n",
       "      <td>3.096456e+07</td>\n",
       "      <td>3.096456e+07</td>\n",
       "    </tr>\n",
       "    <tr>\n",
       "      <th>mean</th>\n",
       "      <td>4.946803e+01</td>\n",
       "      <td>9.967587e+04</td>\n",
       "      <td>1.501819e+00</td>\n",
       "    </tr>\n",
       "    <tr>\n",
       "      <th>std</th>\n",
       "      <td>1.848528e+01</td>\n",
       "      <td>4.314187e+04</td>\n",
       "      <td>1.118896e+00</td>\n",
       "    </tr>\n",
       "    <tr>\n",
       "      <th>min</th>\n",
       "      <td>1.800000e+01</td>\n",
       "      <td>2.590300e+04</td>\n",
       "      <td>0.000000e+00</td>\n",
       "    </tr>\n",
       "    <tr>\n",
       "      <th>25%</th>\n",
       "      <td>3.300000e+01</td>\n",
       "      <td>6.729200e+04</td>\n",
       "      <td>1.000000e+00</td>\n",
       "    </tr>\n",
       "    <tr>\n",
       "      <th>50%</th>\n",
       "      <td>4.900000e+01</td>\n",
       "      <td>9.676500e+04</td>\n",
       "      <td>2.000000e+00</td>\n",
       "    </tr>\n",
       "    <tr>\n",
       "      <th>75%</th>\n",
       "      <td>6.500000e+01</td>\n",
       "      <td>1.281020e+05</td>\n",
       "      <td>3.000000e+00</td>\n",
       "    </tr>\n",
       "    <tr>\n",
       "      <th>max</th>\n",
       "      <td>8.100000e+01</td>\n",
       "      <td>5.939010e+05</td>\n",
       "      <td>3.000000e+00</td>\n",
       "    </tr>\n",
       "  </tbody>\n",
       "</table>\n",
       "</div>"
      ],
      "text/plain": [
       "                Age        income     no_of_dep\n",
       "count  3.096456e+07  3.096456e+07  3.096456e+07\n",
       "mean   4.946803e+01  9.967587e+04  1.501819e+00\n",
       "std    1.848528e+01  4.314187e+04  1.118896e+00\n",
       "min    1.800000e+01  2.590300e+04  0.000000e+00\n",
       "25%    3.300000e+01  6.729200e+04  1.000000e+00\n",
       "50%    4.900000e+01  9.676500e+04  2.000000e+00\n",
       "75%    6.500000e+01  1.281020e+05  3.000000e+00\n",
       "max    8.100000e+01  5.939010e+05  3.000000e+00"
      ]
     },
     "execution_count": 20,
     "metadata": {},
     "output_type": "execute_result"
    }
   ],
   "source": [
    "# Get the description of age, income, no of dependents\n",
    "c_o_p410[['Age','income', 'no_of_dep']].describe()"
   ]
  },
  {
   "cell_type": "code",
   "execution_count": 6,
   "id": "f2a72527",
   "metadata": {
    "scrolled": true
   },
   "outputs": [
    {
     "data": {
      "text/html": [
       "<div>\n",
       "<style scoped>\n",
       "    .dataframe tbody tr th:only-of-type {\n",
       "        vertical-align: middle;\n",
       "    }\n",
       "\n",
       "    .dataframe tbody tr th {\n",
       "        vertical-align: top;\n",
       "    }\n",
       "\n",
       "    .dataframe thead tr th {\n",
       "        text-align: left;\n",
       "    }\n",
       "\n",
       "    .dataframe thead tr:last-of-type th {\n",
       "        text-align: right;\n",
       "    }\n",
       "</style>\n",
       "<table border=\"1\" class=\"dataframe\">\n",
       "  <thead>\n",
       "    <tr>\n",
       "      <th></th>\n",
       "      <th>income</th>\n",
       "    </tr>\n",
       "    <tr>\n",
       "      <th></th>\n",
       "      <th>mean</th>\n",
       "    </tr>\n",
       "    <tr>\n",
       "      <th>max_order</th>\n",
       "      <th></th>\n",
       "    </tr>\n",
       "  </thead>\n",
       "  <tbody>\n",
       "    <tr>\n",
       "      <th>5</th>\n",
       "      <td>96087.361539</td>\n",
       "    </tr>\n",
       "    <tr>\n",
       "      <th>6</th>\n",
       "      <td>97086.048266</td>\n",
       "    </tr>\n",
       "    <tr>\n",
       "      <th>7</th>\n",
       "      <td>97787.991357</td>\n",
       "    </tr>\n",
       "    <tr>\n",
       "      <th>8</th>\n",
       "      <td>97360.611677</td>\n",
       "    </tr>\n",
       "    <tr>\n",
       "      <th>9</th>\n",
       "      <td>97626.295238</td>\n",
       "    </tr>\n",
       "    <tr>\n",
       "      <th>...</th>\n",
       "      <td>...</td>\n",
       "    </tr>\n",
       "    <tr>\n",
       "      <th>95</th>\n",
       "      <td>104864.369424</td>\n",
       "    </tr>\n",
       "    <tr>\n",
       "      <th>96</th>\n",
       "      <td>88689.786196</td>\n",
       "    </tr>\n",
       "    <tr>\n",
       "      <th>97</th>\n",
       "      <td>99317.052415</td>\n",
       "    </tr>\n",
       "    <tr>\n",
       "      <th>98</th>\n",
       "      <td>99875.767152</td>\n",
       "    </tr>\n",
       "    <tr>\n",
       "      <th>99</th>\n",
       "      <td>102474.973722</td>\n",
       "    </tr>\n",
       "  </tbody>\n",
       "</table>\n",
       "<p>95 rows × 1 columns</p>\n",
       "</div>"
      ],
      "text/plain": [
       "                  income\n",
       "                    mean\n",
       "max_order               \n",
       "5           96087.361539\n",
       "6           97086.048266\n",
       "7           97787.991357\n",
       "8           97360.611677\n",
       "9           97626.295238\n",
       "...                  ...\n",
       "95         104864.369424\n",
       "96          88689.786196\n",
       "97          99317.052415\n",
       "98          99875.767152\n",
       "99         102474.973722\n",
       "\n",
       "[95 rows x 1 columns]"
      ]
     },
     "execution_count": 6,
     "metadata": {},
     "output_type": "execute_result"
    }
   ],
   "source": [
    "# get average income with the most orders\n",
    "c_o_p410.groupby('max_order').agg({'income':['mean']})"
   ]
  },
  {
   "cell_type": "code",
   "execution_count": 14,
   "id": "60a42729",
   "metadata": {},
   "outputs": [
    {
     "data": {
      "text/plain": [
       "Male      15586740\n",
       "Female    15377824\n",
       "Name: Gender, dtype: int64"
      ]
     },
     "execution_count": 14,
     "metadata": {},
     "output_type": "execute_result"
    }
   ],
   "source": [
    "# Find frequency of customer gender\n",
    "c_o_p410['Gender'].value_counts(dropna = False)"
   ]
  },
  {
   "cell_type": "code",
   "execution_count": null,
   "id": "6b576b2f",
   "metadata": {},
   "outputs": [],
   "source": [
    "c_o_p410.groupby(['Regions']).agg({'product_name':['mean','max']})"
   ]
  },
  {
   "cell_type": "markdown",
   "id": "6b7caef6",
   "metadata": {},
   "source": [
    "### Create a df to look up products in the department_id's with highest means."
   ]
  },
  {
   "cell_type": "code",
   "execution_count": 21,
   "id": "69a20051",
   "metadata": {},
   "outputs": [],
   "source": [
    "dept_id = c_o_p410.loc[c_o_p410['department_id'].isin([4,16])]"
   ]
  },
  {
   "cell_type": "code",
   "execution_count": 23,
   "id": "304edd79",
   "metadata": {},
   "outputs": [
    {
     "data": {
      "text/plain": [
       "product_name                                   department_id\n",
       "Banana                                         4                453164\n",
       "Bag of Organic Bananas                         4                366403\n",
       "Organic Strawberries                           4                255988\n",
       "Organic Baby Spinach                           4                231772\n",
       "Organic Hass Avocado                           4                206799\n",
       "                                                                 ...  \n",
       "Yogurt, Coconut Non-Dairy, Low Fat, Blueberry  16                    1\n",
       "Organic Lowfat Strawberry Yogurt Kefir         16                    1\n",
       "Tomato Basil Gouda                             16                    1\n",
       "Cinnamon Rice Pudding Snacks                   16                    1\n",
       "Rosemary Medium Asiago Cheese Wedge            16                    1\n",
       "Length: 5126, dtype: int64"
      ]
     },
     "execution_count": 23,
     "metadata": {},
     "output_type": "execute_result"
    }
   ],
   "source": [
    "dept_id[['product_name','department_id']].value_counts(dropna = False)"
   ]
  },
  {
   "cell_type": "code",
   "execution_count": 32,
   "id": "31e4039e",
   "metadata": {
    "scrolled": true
   },
   "outputs": [
    {
     "data": {
      "text/html": [
       "<div>\n",
       "<style scoped>\n",
       "    .dataframe tbody tr th:only-of-type {\n",
       "        vertical-align: middle;\n",
       "    }\n",
       "\n",
       "    .dataframe tbody tr th {\n",
       "        vertical-align: top;\n",
       "    }\n",
       "\n",
       "    .dataframe thead tr th {\n",
       "        text-align: left;\n",
       "    }\n",
       "\n",
       "    .dataframe thead tr:last-of-type th {\n",
       "        text-align: right;\n",
       "    }\n",
       "</style>\n",
       "<table border=\"1\" class=\"dataframe\">\n",
       "  <thead>\n",
       "    <tr>\n",
       "      <th></th>\n",
       "      <th></th>\n",
       "      <th colspan=\"2\" halign=\"left\">max_order</th>\n",
       "    </tr>\n",
       "    <tr>\n",
       "      <th></th>\n",
       "      <th></th>\n",
       "      <th>mean</th>\n",
       "      <th>max</th>\n",
       "    </tr>\n",
       "    <tr>\n",
       "      <th>department_id</th>\n",
       "      <th>product_name</th>\n",
       "      <th></th>\n",
       "      <th></th>\n",
       "    </tr>\n",
       "  </thead>\n",
       "  <tbody>\n",
       "    <tr>\n",
       "      <th rowspan=\"5\" valign=\"top\">10</th>\n",
       "      <th>Apricots</th>\n",
       "      <td>38.943567</td>\n",
       "      <td>99</td>\n",
       "    </tr>\n",
       "    <tr>\n",
       "      <th>Cranberry Beans</th>\n",
       "      <td>25.652174</td>\n",
       "      <td>82</td>\n",
       "    </tr>\n",
       "    <tr>\n",
       "      <th>Crystallized Ginger Chunks</th>\n",
       "      <td>36.054054</td>\n",
       "      <td>99</td>\n",
       "    </tr>\n",
       "    <tr>\n",
       "      <th>Dried Mango</th>\n",
       "      <td>39.746553</td>\n",
       "      <td>99</td>\n",
       "    </tr>\n",
       "    <tr>\n",
       "      <th>Fit Super A Juice, Cold Pressed, Carrot/Apple/Ginger</th>\n",
       "      <td>28.523077</td>\n",
       "      <td>99</td>\n",
       "    </tr>\n",
       "    <tr>\n",
       "      <th>...</th>\n",
       "      <th>...</th>\n",
       "      <td>...</td>\n",
       "      <td>...</td>\n",
       "    </tr>\n",
       "    <tr>\n",
       "      <th rowspan=\"5\" valign=\"top\">21</th>\n",
       "      <th>Yogurt</th>\n",
       "      <td>31.500000</td>\n",
       "      <td>56</td>\n",
       "    </tr>\n",
       "    <tr>\n",
       "      <th>Zebra Cake</th>\n",
       "      <td>14.500000</td>\n",
       "      <td>17</td>\n",
       "    </tr>\n",
       "    <tr>\n",
       "      <th>Zebra Popcorn</th>\n",
       "      <td>26.551724</td>\n",
       "      <td>99</td>\n",
       "    </tr>\n",
       "    <tr>\n",
       "      <th>Zero Lemon‑Lime Soda</th>\n",
       "      <td>20.875000</td>\n",
       "      <td>34</td>\n",
       "    </tr>\n",
       "    <tr>\n",
       "      <th>Zero Peach Nutrient Enhanced Water Beverage</th>\n",
       "      <td>6.176471</td>\n",
       "      <td>7</td>\n",
       "    </tr>\n",
       "  </tbody>\n",
       "</table>\n",
       "<p>1285 rows × 2 columns</p>\n",
       "</div>"
      ],
      "text/plain": [
       "                                                                  max_order  \\\n",
       "                                                                       mean   \n",
       "department_id product_name                                                    \n",
       "10            Apricots                                            38.943567   \n",
       "              Cranberry Beans                                     25.652174   \n",
       "              Crystallized Ginger Chunks                          36.054054   \n",
       "              Dried Mango                                         39.746553   \n",
       "              Fit Super A Juice, Cold Pressed, Carrot/Apple/G...  28.523077   \n",
       "...                                                                     ...   \n",
       "21            Yogurt                                              31.500000   \n",
       "              Zebra Cake                                          14.500000   \n",
       "              Zebra Popcorn                                       26.551724   \n",
       "              Zero Lemon‑Lime Soda                                20.875000   \n",
       "              Zero Peach Nutrient Enhanced Water Beverage          6.176471   \n",
       "\n",
       "                                                                      \n",
       "                                                                 max  \n",
       "department_id product_name                                            \n",
       "10            Apricots                                            99  \n",
       "              Cranberry Beans                                     82  \n",
       "              Crystallized Ginger Chunks                          99  \n",
       "              Dried Mango                                         99  \n",
       "              Fit Super A Juice, Cold Pressed, Carrot/Apple/G...  99  \n",
       "...                                                               ..  \n",
       "21            Yogurt                                              56  \n",
       "              Zebra Cake                                          17  \n",
       "              Zebra Popcorn                                       99  \n",
       "              Zero Lemon‑Lime Soda                                34  \n",
       "              Zero Peach Nutrient Enhanced Water Beverage          7  \n",
       "\n",
       "[1285 rows x 2 columns]"
      ]
     },
     "execution_count": 32,
     "metadata": {},
     "output_type": "execute_result"
    }
   ],
   "source": [
    "dept_id.groupby(['department_id','product_name']).agg({'max_order':['mean','max']})"
   ]
  },
  {
   "cell_type": "code",
   "execution_count": 31,
   "id": "a4980f04",
   "metadata": {},
   "outputs": [
    {
     "data": {
      "text/plain": [
       "<Figure size 640x480 with 0 Axes>"
      ]
     },
     "metadata": {},
     "output_type": "display_data"
    }
   ],
   "source": [
    "#export pie chart\n",
    "plt.savefig(os.path.join(path,'04 Analysis','Visualizations','pie_family_status.png'))"
   ]
  }
 ],
 "metadata": {
  "kernelspec": {
   "display_name": "Python 3 (ipykernel)",
   "language": "python",
   "name": "python3"
  },
  "language_info": {
   "codemirror_mode": {
    "name": "ipython",
    "version": 3
   },
   "file_extension": ".py",
   "mimetype": "text/x-python",
   "name": "python",
   "nbconvert_exporter": "python",
   "pygments_lexer": "ipython3",
   "version": "3.10.9"
  }
 },
 "nbformat": 4,
 "nbformat_minor": 5
}
