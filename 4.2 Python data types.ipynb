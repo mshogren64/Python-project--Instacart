{
 "cells": [
  {
   "cell_type": "code",
   "execution_count": 3,
   "id": "6ae745da",
   "metadata": {},
   "outputs": [],
   "source": [
    "#Import panda, Numpy, os libraries\n",
    "import pandas as pd\n",
    "import numpy as np\n",
    "import os as os\n"
   ]
  },
  {
   "cell_type": "code",
   "execution_count": 4,
   "id": "a60dcdff",
   "metadata": {},
   "outputs": [
    {
     "data": {
      "text/plain": [
       "100"
      ]
     },
     "execution_count": 4,
     "metadata": {},
     "output_type": "execute_result"
    }
   ],
   "source": [
    "#(7)Working with Python data types\n",
    "x = 50\n",
    "x+50"
   ]
  },
  {
   "cell_type": "code",
   "execution_count": 5,
   "id": "7584baa5",
   "metadata": {},
   "outputs": [
    {
     "data": {
      "text/plain": [
       "100"
      ]
     },
     "execution_count": 5,
     "metadata": {},
     "output_type": "execute_result"
    }
   ],
   "source": [
    "x=25\n",
    "y=75\n",
    "x+y"
   ]
  },
  {
   "cell_type": "code",
   "execution_count": 7,
   "id": "1edf9f74",
   "metadata": {},
   "outputs": [
    {
     "data": {
      "text/plain": [
       "100"
      ]
     },
     "execution_count": 7,
     "metadata": {},
     "output_type": "execute_result"
    }
   ],
   "source": [
    "z=125\n",
    "z-x"
   ]
  },
  {
   "cell_type": "code",
   "execution_count": 8,
   "id": "e83b4792",
   "metadata": {},
   "outputs": [
    {
     "data": {
      "text/plain": [
       "5.681818181818182"
      ]
     },
     "execution_count": 8,
     "metadata": {},
     "output_type": "execute_result"
    }
   ],
   "source": [
    "#(8) 2 floating variables\n",
    "x=12.5\n",
    "y=2.2\n",
    "x/y"
   ]
  },
  {
   "cell_type": "code",
   "execution_count": 10,
   "id": "81f36e26",
   "metadata": {},
   "outputs": [
    {
     "data": {
      "text/plain": [
       "'Hello World'"
      ]
     },
     "execution_count": 10,
     "metadata": {},
     "output_type": "execute_result"
    }
   ],
   "source": [
    "#(9) Construct a short word made of separate strings (you’ll need to concatenate some strings!).\n",
    "x='Hello'\n",
    "y=' World'\n",
    "x+y"
   ]
  },
  {
   "cell_type": "code",
   "execution_count": 11,
   "id": "443f1390",
   "metadata": {},
   "outputs": [
    {
     "data": {
      "text/plain": [
       "'Hello to the World of Python, this will be fun!'"
      ]
     },
     "execution_count": 11,
     "metadata": {},
     "output_type": "execute_result"
    }
   ],
   "source": [
    "#(10)Construct 2 short sentences made of separate strings.\n",
    "x='Hello to the World of Python,'\n",
    "y=' this will be fun!'\n",
    "x+y"
   ]
  },
  {
   "cell_type": "code",
   "execution_count": 12,
   "id": "e60b5890",
   "metadata": {},
   "outputs": [
    {
     "data": {
      "text/plain": [
       "'HelloHelloHelloHelloHelloHelloHelloHelloHelloHelloHelloHelloHelloHelloHelloHelloHelloHelloHelloHelloHelloHelloHelloHelloHelloHelloHelloHelloHelloHelloHelloHelloHelloHelloHelloHelloHelloHelloHelloHelloHelloHelloHelloHelloHelloHelloHelloHelloHelloHelloHelloHelloHelloHelloHelloHelloHelloHelloHelloHelloHelloHelloHelloHelloHelloHelloHelloHelloHelloHelloHelloHelloHelloHelloHelloHelloHelloHelloHelloHelloHelloHelloHelloHelloHelloHelloHelloHelloHelloHelloHelloHelloHelloHelloHelloHelloHelloHelloHelloHello'"
      ]
     },
     "execution_count": 12,
     "metadata": {},
     "output_type": "execute_result"
    }
   ],
   "source": [
    "# Bonus Task\n",
    "x='Hello'\n",
    "x*100"
   ]
  },
  {
   "cell_type": "code",
   "execution_count": null,
   "id": "57158904",
   "metadata": {},
   "outputs": [],
   "source": []
  }
 ],
 "metadata": {
  "kernelspec": {
   "display_name": "Python 3 (ipykernel)",
   "language": "python",
   "name": "python3"
  },
  "language_info": {
   "codemirror_mode": {
    "name": "ipython",
    "version": 3
   },
   "file_extension": ".py",
   "mimetype": "text/x-python",
   "name": "python",
   "nbconvert_exporter": "python",
   "pygments_lexer": "ipython3",
   "version": "3.10.9"
  }
 },
 "nbformat": 4,
 "nbformat_minor": 5
}
